{
  "nbformat": 4,
  "nbformat_minor": 0,
  "metadata": {
    "colab": {
      "name": "Untitled28.ipynb",
      "provenance": [],
      "collapsed_sections": []
    },
    "kernelspec": {
      "name": "python3",
      "display_name": "Python 3"
    },
    "language_info": {
      "name": "python"
    }
  },
  "cells": [
    {
      "cell_type": "code",
      "execution_count": 1,
      "metadata": {
        "id": "rpwbpUW5maRA"
      },
      "outputs": [],
      "source": [
        "import numpy as np \n",
        "import pandas as pd "
      ]
    },
    {
      "cell_type": "code",
      "source": [
        ""
      ],
      "metadata": {
        "id": "fU8jN9r3mnUL"
      },
      "execution_count": 1,
      "outputs": []
    },
    {
      "cell_type": "code",
      "source": [
        "df2 =  pd.read_csv('/content/amazon_prime_titles.csv')"
      ],
      "metadata": {
        "id": "TAxn0B9BmnXH"
      },
      "execution_count": 2,
      "outputs": []
    },
    {
      "cell_type": "code",
      "source": [
        "df2.head()"
      ],
      "metadata": {
        "colab": {
          "base_uri": "https://localhost:8080/",
          "height": 701
        },
        "id": "7xn1_lQDmnbK",
        "outputId": "27ae1a49-91c2-4455-94c3-b72b2a3186c8"
      },
      "execution_count": 3,
      "outputs": [
        {
          "output_type": "execute_result",
          "data": {
            "text/plain": [
              "  show_id   type                 title        director  \\\n",
              "0      s1  Movie   The Grand Seduction    Don McKellar   \n",
              "1      s2  Movie  Take Care Good Night    Girish Joshi   \n",
              "2      s3  Movie  Secrets of Deception     Josh Webber   \n",
              "3      s4  Movie    Pink: Staying True  Sonia Anderson   \n",
              "4      s5  Movie         Monster Maker    Giles Foster   \n",
              "\n",
              "                                                cast         country  \\\n",
              "0     Brendan Gleeson, Taylor Kitsch, Gordon Pinsent          Canada   \n",
              "1   Mahesh Manjrekar, Abhay Mahajan, Sachin Khedekar           India   \n",
              "2  Tom Sizemore, Lorenzo Lamas, Robert LaSardo, R...   United States   \n",
              "3  Interviews with: Pink, Adele, Beyoncé, Britney...   United States   \n",
              "4  Harry Dean Stanton, Kieran O'Brien, George Cos...  United Kingdom   \n",
              "\n",
              "       date_added  release_year rating duration                listed_in  \\\n",
              "0  March 30, 2021          2014    NaN  113 min            Comedy, Drama   \n",
              "1  March 30, 2021          2018    13+  110 min     Drama, International   \n",
              "2  March 30, 2021          2017    NaN   74 min  Action, Drama, Suspense   \n",
              "3  March 30, 2021          2014    NaN   69 min              Documentary   \n",
              "4  March 30, 2021          1989    NaN   45 min           Drama, Fantasy   \n",
              "\n",
              "                                         description  \n",
              "0  A small fishing village must procure a local d...  \n",
              "1  A Metro Family decides to fight a Cyber Crimin...  \n",
              "2  After a man discovers his wife is cheating on ...  \n",
              "3  Pink breaks the mold once again, bringing her ...  \n",
              "4  Teenage Matt Banting wants to work with a famo...  "
            ],
            "text/html": [
              "\n",
              "  <div id=\"df-1c8a54ac-435d-4a0d-8260-f3bd99d0eeea\">\n",
              "    <div class=\"colab-df-container\">\n",
              "      <div>\n",
              "<style scoped>\n",
              "    .dataframe tbody tr th:only-of-type {\n",
              "        vertical-align: middle;\n",
              "    }\n",
              "\n",
              "    .dataframe tbody tr th {\n",
              "        vertical-align: top;\n",
              "    }\n",
              "\n",
              "    .dataframe thead th {\n",
              "        text-align: right;\n",
              "    }\n",
              "</style>\n",
              "<table border=\"1\" class=\"dataframe\">\n",
              "  <thead>\n",
              "    <tr style=\"text-align: right;\">\n",
              "      <th></th>\n",
              "      <th>show_id</th>\n",
              "      <th>type</th>\n",
              "      <th>title</th>\n",
              "      <th>director</th>\n",
              "      <th>cast</th>\n",
              "      <th>country</th>\n",
              "      <th>date_added</th>\n",
              "      <th>release_year</th>\n",
              "      <th>rating</th>\n",
              "      <th>duration</th>\n",
              "      <th>listed_in</th>\n",
              "      <th>description</th>\n",
              "    </tr>\n",
              "  </thead>\n",
              "  <tbody>\n",
              "    <tr>\n",
              "      <th>0</th>\n",
              "      <td>s1</td>\n",
              "      <td>Movie</td>\n",
              "      <td>The Grand Seduction</td>\n",
              "      <td>Don McKellar</td>\n",
              "      <td>Brendan Gleeson, Taylor Kitsch, Gordon Pinsent</td>\n",
              "      <td>Canada</td>\n",
              "      <td>March 30, 2021</td>\n",
              "      <td>2014</td>\n",
              "      <td>NaN</td>\n",
              "      <td>113 min</td>\n",
              "      <td>Comedy, Drama</td>\n",
              "      <td>A small fishing village must procure a local d...</td>\n",
              "    </tr>\n",
              "    <tr>\n",
              "      <th>1</th>\n",
              "      <td>s2</td>\n",
              "      <td>Movie</td>\n",
              "      <td>Take Care Good Night</td>\n",
              "      <td>Girish Joshi</td>\n",
              "      <td>Mahesh Manjrekar, Abhay Mahajan, Sachin Khedekar</td>\n",
              "      <td>India</td>\n",
              "      <td>March 30, 2021</td>\n",
              "      <td>2018</td>\n",
              "      <td>13+</td>\n",
              "      <td>110 min</td>\n",
              "      <td>Drama, International</td>\n",
              "      <td>A Metro Family decides to fight a Cyber Crimin...</td>\n",
              "    </tr>\n",
              "    <tr>\n",
              "      <th>2</th>\n",
              "      <td>s3</td>\n",
              "      <td>Movie</td>\n",
              "      <td>Secrets of Deception</td>\n",
              "      <td>Josh Webber</td>\n",
              "      <td>Tom Sizemore, Lorenzo Lamas, Robert LaSardo, R...</td>\n",
              "      <td>United States</td>\n",
              "      <td>March 30, 2021</td>\n",
              "      <td>2017</td>\n",
              "      <td>NaN</td>\n",
              "      <td>74 min</td>\n",
              "      <td>Action, Drama, Suspense</td>\n",
              "      <td>After a man discovers his wife is cheating on ...</td>\n",
              "    </tr>\n",
              "    <tr>\n",
              "      <th>3</th>\n",
              "      <td>s4</td>\n",
              "      <td>Movie</td>\n",
              "      <td>Pink: Staying True</td>\n",
              "      <td>Sonia Anderson</td>\n",
              "      <td>Interviews with: Pink, Adele, Beyoncé, Britney...</td>\n",
              "      <td>United States</td>\n",
              "      <td>March 30, 2021</td>\n",
              "      <td>2014</td>\n",
              "      <td>NaN</td>\n",
              "      <td>69 min</td>\n",
              "      <td>Documentary</td>\n",
              "      <td>Pink breaks the mold once again, bringing her ...</td>\n",
              "    </tr>\n",
              "    <tr>\n",
              "      <th>4</th>\n",
              "      <td>s5</td>\n",
              "      <td>Movie</td>\n",
              "      <td>Monster Maker</td>\n",
              "      <td>Giles Foster</td>\n",
              "      <td>Harry Dean Stanton, Kieran O'Brien, George Cos...</td>\n",
              "      <td>United Kingdom</td>\n",
              "      <td>March 30, 2021</td>\n",
              "      <td>1989</td>\n",
              "      <td>NaN</td>\n",
              "      <td>45 min</td>\n",
              "      <td>Drama, Fantasy</td>\n",
              "      <td>Teenage Matt Banting wants to work with a famo...</td>\n",
              "    </tr>\n",
              "  </tbody>\n",
              "</table>\n",
              "</div>\n",
              "      <button class=\"colab-df-convert\" onclick=\"convertToInteractive('df-1c8a54ac-435d-4a0d-8260-f3bd99d0eeea')\"\n",
              "              title=\"Convert this dataframe to an interactive table.\"\n",
              "              style=\"display:none;\">\n",
              "        \n",
              "  <svg xmlns=\"http://www.w3.org/2000/svg\" height=\"24px\"viewBox=\"0 0 24 24\"\n",
              "       width=\"24px\">\n",
              "    <path d=\"M0 0h24v24H0V0z\" fill=\"none\"/>\n",
              "    <path d=\"M18.56 5.44l.94 2.06.94-2.06 2.06-.94-2.06-.94-.94-2.06-.94 2.06-2.06.94zm-11 1L8.5 8.5l.94-2.06 2.06-.94-2.06-.94L8.5 2.5l-.94 2.06-2.06.94zm10 10l.94 2.06.94-2.06 2.06-.94-2.06-.94-.94-2.06-.94 2.06-2.06.94z\"/><path d=\"M17.41 7.96l-1.37-1.37c-.4-.4-.92-.59-1.43-.59-.52 0-1.04.2-1.43.59L10.3 9.45l-7.72 7.72c-.78.78-.78 2.05 0 2.83L4 21.41c.39.39.9.59 1.41.59.51 0 1.02-.2 1.41-.59l7.78-7.78 2.81-2.81c.8-.78.8-2.07 0-2.86zM5.41 20L4 18.59l7.72-7.72 1.47 1.35L5.41 20z\"/>\n",
              "  </svg>\n",
              "      </button>\n",
              "      \n",
              "  <style>\n",
              "    .colab-df-container {\n",
              "      display:flex;\n",
              "      flex-wrap:wrap;\n",
              "      gap: 12px;\n",
              "    }\n",
              "\n",
              "    .colab-df-convert {\n",
              "      background-color: #E8F0FE;\n",
              "      border: none;\n",
              "      border-radius: 50%;\n",
              "      cursor: pointer;\n",
              "      display: none;\n",
              "      fill: #1967D2;\n",
              "      height: 32px;\n",
              "      padding: 0 0 0 0;\n",
              "      width: 32px;\n",
              "    }\n",
              "\n",
              "    .colab-df-convert:hover {\n",
              "      background-color: #E2EBFA;\n",
              "      box-shadow: 0px 1px 2px rgba(60, 64, 67, 0.3), 0px 1px 3px 1px rgba(60, 64, 67, 0.15);\n",
              "      fill: #174EA6;\n",
              "    }\n",
              "\n",
              "    [theme=dark] .colab-df-convert {\n",
              "      background-color: #3B4455;\n",
              "      fill: #D2E3FC;\n",
              "    }\n",
              "\n",
              "    [theme=dark] .colab-df-convert:hover {\n",
              "      background-color: #434B5C;\n",
              "      box-shadow: 0px 1px 3px 1px rgba(0, 0, 0, 0.15);\n",
              "      filter: drop-shadow(0px 1px 2px rgba(0, 0, 0, 0.3));\n",
              "      fill: #FFFFFF;\n",
              "    }\n",
              "  </style>\n",
              "\n",
              "      <script>\n",
              "        const buttonEl =\n",
              "          document.querySelector('#df-1c8a54ac-435d-4a0d-8260-f3bd99d0eeea button.colab-df-convert');\n",
              "        buttonEl.style.display =\n",
              "          google.colab.kernel.accessAllowed ? 'block' : 'none';\n",
              "\n",
              "        async function convertToInteractive(key) {\n",
              "          const element = document.querySelector('#df-1c8a54ac-435d-4a0d-8260-f3bd99d0eeea');\n",
              "          const dataTable =\n",
              "            await google.colab.kernel.invokeFunction('convertToInteractive',\n",
              "                                                     [key], {});\n",
              "          if (!dataTable) return;\n",
              "\n",
              "          const docLinkHtml = 'Like what you see? Visit the ' +\n",
              "            '<a target=\"_blank\" href=https://colab.research.google.com/notebooks/data_table.ipynb>data table notebook</a>'\n",
              "            + ' to learn more about interactive tables.';\n",
              "          element.innerHTML = '';\n",
              "          dataTable['output_type'] = 'display_data';\n",
              "          await google.colab.output.renderOutput(dataTable, element);\n",
              "          const docLink = document.createElement('div');\n",
              "          docLink.innerHTML = docLinkHtml;\n",
              "          element.appendChild(docLink);\n",
              "        }\n",
              "      </script>\n",
              "    </div>\n",
              "  </div>\n",
              "  "
            ]
          },
          "metadata": {},
          "execution_count": 3
        }
      ]
    },
    {
      "cell_type": "code",
      "source": [
        "df1.head()"
      ],
      "metadata": {
        "colab": {
          "base_uri": "https://localhost:8080/",
          "height": 165
        },
        "id": "-0-wVXf1mnd2",
        "outputId": "4209441d-2d75-47c4-a8d6-817480acfbb5"
      },
      "execution_count": 4,
      "outputs": [
        {
          "output_type": "error",
          "ename": "NameError",
          "evalue": "ignored",
          "traceback": [
            "\u001b[0;31m---------------------------------------------------------------------------\u001b[0m",
            "\u001b[0;31mNameError\u001b[0m                                 Traceback (most recent call last)",
            "\u001b[0;32m<ipython-input-4-eda2b5cc1a42>\u001b[0m in \u001b[0;36m<module>\u001b[0;34m()\u001b[0m\n\u001b[0;32m----> 1\u001b[0;31m \u001b[0mdf1\u001b[0m\u001b[0;34m.\u001b[0m\u001b[0mhead\u001b[0m\u001b[0;34m(\u001b[0m\u001b[0;34m)\u001b[0m\u001b[0;34m\u001b[0m\u001b[0;34m\u001b[0m\u001b[0m\n\u001b[0m",
            "\u001b[0;31mNameError\u001b[0m: name 'df1' is not defined"
          ]
        }
      ]
    },
    {
      "cell_type": "code",
      "source": [
        "main = df1.drop(['IMDb Rating' , 'Running Time' , 'Year of Release' , 'Maturity Rating'] , axis = 1).merge(df2[['title' , 'director', 'cast' , 'listed_in' , 'description']], left_on = 'Movie Name', right_on = 'title' , how = 'left')"
      ],
      "metadata": {
        "id": "V1FFPdanmnfy"
      },
      "execution_count": null,
      "outputs": []
    },
    {
      "cell_type": "code",
      "source": [
        "main"
      ],
      "metadata": {
        "id": "aLtdobydmniT"
      },
      "execution_count": null,
      "outputs": []
    },
    {
      "cell_type": "code",
      "source": [
        "main = df1.drop(['IMDb Rating' , 'Running Time' , 'Year of Release' , 'Maturity Rating'] , axis = 1).merge(df2[['title' , 'director', 'cast' , 'listed_in' , 'description']], left_on = 'Movie Name', right_on = 'title' , how = 'left')"
      ],
      "metadata": {
        "id": "v98MSrIOmnk4"
      },
      "execution_count": null,
      "outputs": []
    },
    {
      "cell_type": "code",
      "source": [
        "df2.info()"
      ],
      "metadata": {
        "id": "cv4XOzTmmnod"
      },
      "execution_count": null,
      "outputs": []
    },
    {
      "cell_type": "code",
      "source": [
        "df2[df2['type'] == 'Movie']"
      ],
      "metadata": {
        "id": "nK7Pxopmmnq6"
      },
      "execution_count": null,
      "outputs": []
    },
    {
      "cell_type": "code",
      "source": [
        "df2.drop(['show_id' , 'type' , 'date_added' , 'release_year' , 'rating' , 'duration'] , inplace = True , axis = 1)"
      ],
      "metadata": {
        "id": "K9u1avJWDODL",
        "colab": {
          "base_uri": "https://localhost:8080/",
          "height": 311
        },
        "outputId": "5207831e-913b-49b5-c0ff-152a0204c25d"
      },
      "execution_count": 6,
      "outputs": [
        {
          "output_type": "error",
          "ename": "KeyError",
          "evalue": "ignored",
          "traceback": [
            "\u001b[0;31m---------------------------------------------------------------------------\u001b[0m",
            "\u001b[0;31mKeyError\u001b[0m                                  Traceback (most recent call last)",
            "\u001b[0;32m<ipython-input-6-d08cf4c44efb>\u001b[0m in \u001b[0;36m<module>\u001b[0;34m()\u001b[0m\n\u001b[0;32m----> 1\u001b[0;31m \u001b[0mdf2\u001b[0m\u001b[0;34m.\u001b[0m\u001b[0mdrop\u001b[0m\u001b[0;34m(\u001b[0m\u001b[0;34m[\u001b[0m\u001b[0;34m'show_id'\u001b[0m \u001b[0;34m,\u001b[0m \u001b[0;34m'type'\u001b[0m \u001b[0;34m,\u001b[0m \u001b[0;34m'date_added'\u001b[0m \u001b[0;34m,\u001b[0m \u001b[0;34m'release_year'\u001b[0m \u001b[0;34m,\u001b[0m \u001b[0;34m'rating'\u001b[0m \u001b[0;34m,\u001b[0m \u001b[0;34m'duration'\u001b[0m\u001b[0;34m]\u001b[0m \u001b[0;34m,\u001b[0m \u001b[0minplace\u001b[0m \u001b[0;34m=\u001b[0m \u001b[0;32mTrue\u001b[0m \u001b[0;34m,\u001b[0m \u001b[0maxis\u001b[0m \u001b[0;34m=\u001b[0m \u001b[0;36m1\u001b[0m\u001b[0;34m)\u001b[0m\u001b[0;34m\u001b[0m\u001b[0;34m\u001b[0m\u001b[0m\n\u001b[0m",
            "\u001b[0;32m/usr/local/lib/python3.7/dist-packages/pandas/util/_decorators.py\u001b[0m in \u001b[0;36mwrapper\u001b[0;34m(*args, **kwargs)\u001b[0m\n\u001b[1;32m    309\u001b[0m                     \u001b[0mstacklevel\u001b[0m\u001b[0;34m=\u001b[0m\u001b[0mstacklevel\u001b[0m\u001b[0;34m,\u001b[0m\u001b[0;34m\u001b[0m\u001b[0;34m\u001b[0m\u001b[0m\n\u001b[1;32m    310\u001b[0m                 )\n\u001b[0;32m--> 311\u001b[0;31m             \u001b[0;32mreturn\u001b[0m \u001b[0mfunc\u001b[0m\u001b[0;34m(\u001b[0m\u001b[0;34m*\u001b[0m\u001b[0margs\u001b[0m\u001b[0;34m,\u001b[0m \u001b[0;34m**\u001b[0m\u001b[0mkwargs\u001b[0m\u001b[0;34m)\u001b[0m\u001b[0;34m\u001b[0m\u001b[0;34m\u001b[0m\u001b[0m\n\u001b[0m\u001b[1;32m    312\u001b[0m \u001b[0;34m\u001b[0m\u001b[0m\n\u001b[1;32m    313\u001b[0m         \u001b[0;32mreturn\u001b[0m \u001b[0mwrapper\u001b[0m\u001b[0;34m\u001b[0m\u001b[0;34m\u001b[0m\u001b[0m\n",
            "\u001b[0;32m/usr/local/lib/python3.7/dist-packages/pandas/core/frame.py\u001b[0m in \u001b[0;36mdrop\u001b[0;34m(self, labels, axis, index, columns, level, inplace, errors)\u001b[0m\n\u001b[1;32m   4911\u001b[0m             \u001b[0mlevel\u001b[0m\u001b[0;34m=\u001b[0m\u001b[0mlevel\u001b[0m\u001b[0;34m,\u001b[0m\u001b[0;34m\u001b[0m\u001b[0;34m\u001b[0m\u001b[0m\n\u001b[1;32m   4912\u001b[0m             \u001b[0minplace\u001b[0m\u001b[0;34m=\u001b[0m\u001b[0minplace\u001b[0m\u001b[0;34m,\u001b[0m\u001b[0;34m\u001b[0m\u001b[0;34m\u001b[0m\u001b[0m\n\u001b[0;32m-> 4913\u001b[0;31m             \u001b[0merrors\u001b[0m\u001b[0;34m=\u001b[0m\u001b[0merrors\u001b[0m\u001b[0;34m,\u001b[0m\u001b[0;34m\u001b[0m\u001b[0;34m\u001b[0m\u001b[0m\n\u001b[0m\u001b[1;32m   4914\u001b[0m         )\n\u001b[1;32m   4915\u001b[0m \u001b[0;34m\u001b[0m\u001b[0m\n",
            "\u001b[0;32m/usr/local/lib/python3.7/dist-packages/pandas/core/generic.py\u001b[0m in \u001b[0;36mdrop\u001b[0;34m(self, labels, axis, index, columns, level, inplace, errors)\u001b[0m\n\u001b[1;32m   4148\u001b[0m         \u001b[0;32mfor\u001b[0m \u001b[0maxis\u001b[0m\u001b[0;34m,\u001b[0m \u001b[0mlabels\u001b[0m \u001b[0;32min\u001b[0m \u001b[0maxes\u001b[0m\u001b[0;34m.\u001b[0m\u001b[0mitems\u001b[0m\u001b[0;34m(\u001b[0m\u001b[0;34m)\u001b[0m\u001b[0;34m:\u001b[0m\u001b[0;34m\u001b[0m\u001b[0;34m\u001b[0m\u001b[0m\n\u001b[1;32m   4149\u001b[0m             \u001b[0;32mif\u001b[0m \u001b[0mlabels\u001b[0m \u001b[0;32mis\u001b[0m \u001b[0;32mnot\u001b[0m \u001b[0;32mNone\u001b[0m\u001b[0;34m:\u001b[0m\u001b[0;34m\u001b[0m\u001b[0;34m\u001b[0m\u001b[0m\n\u001b[0;32m-> 4150\u001b[0;31m                 \u001b[0mobj\u001b[0m \u001b[0;34m=\u001b[0m \u001b[0mobj\u001b[0m\u001b[0;34m.\u001b[0m\u001b[0m_drop_axis\u001b[0m\u001b[0;34m(\u001b[0m\u001b[0mlabels\u001b[0m\u001b[0;34m,\u001b[0m \u001b[0maxis\u001b[0m\u001b[0;34m,\u001b[0m \u001b[0mlevel\u001b[0m\u001b[0;34m=\u001b[0m\u001b[0mlevel\u001b[0m\u001b[0;34m,\u001b[0m \u001b[0merrors\u001b[0m\u001b[0;34m=\u001b[0m\u001b[0merrors\u001b[0m\u001b[0;34m)\u001b[0m\u001b[0;34m\u001b[0m\u001b[0;34m\u001b[0m\u001b[0m\n\u001b[0m\u001b[1;32m   4151\u001b[0m \u001b[0;34m\u001b[0m\u001b[0m\n\u001b[1;32m   4152\u001b[0m         \u001b[0;32mif\u001b[0m \u001b[0minplace\u001b[0m\u001b[0;34m:\u001b[0m\u001b[0;34m\u001b[0m\u001b[0;34m\u001b[0m\u001b[0m\n",
            "\u001b[0;32m/usr/local/lib/python3.7/dist-packages/pandas/core/generic.py\u001b[0m in \u001b[0;36m_drop_axis\u001b[0;34m(self, labels, axis, level, errors)\u001b[0m\n\u001b[1;32m   4183\u001b[0m                 \u001b[0mnew_axis\u001b[0m \u001b[0;34m=\u001b[0m \u001b[0maxis\u001b[0m\u001b[0;34m.\u001b[0m\u001b[0mdrop\u001b[0m\u001b[0;34m(\u001b[0m\u001b[0mlabels\u001b[0m\u001b[0;34m,\u001b[0m \u001b[0mlevel\u001b[0m\u001b[0;34m=\u001b[0m\u001b[0mlevel\u001b[0m\u001b[0;34m,\u001b[0m \u001b[0merrors\u001b[0m\u001b[0;34m=\u001b[0m\u001b[0merrors\u001b[0m\u001b[0;34m)\u001b[0m\u001b[0;34m\u001b[0m\u001b[0;34m\u001b[0m\u001b[0m\n\u001b[1;32m   4184\u001b[0m             \u001b[0;32melse\u001b[0m\u001b[0;34m:\u001b[0m\u001b[0;34m\u001b[0m\u001b[0;34m\u001b[0m\u001b[0m\n\u001b[0;32m-> 4185\u001b[0;31m                 \u001b[0mnew_axis\u001b[0m \u001b[0;34m=\u001b[0m \u001b[0maxis\u001b[0m\u001b[0;34m.\u001b[0m\u001b[0mdrop\u001b[0m\u001b[0;34m(\u001b[0m\u001b[0mlabels\u001b[0m\u001b[0;34m,\u001b[0m \u001b[0merrors\u001b[0m\u001b[0;34m=\u001b[0m\u001b[0merrors\u001b[0m\u001b[0;34m)\u001b[0m\u001b[0;34m\u001b[0m\u001b[0;34m\u001b[0m\u001b[0m\n\u001b[0m\u001b[1;32m   4186\u001b[0m             \u001b[0mresult\u001b[0m \u001b[0;34m=\u001b[0m \u001b[0mself\u001b[0m\u001b[0;34m.\u001b[0m\u001b[0mreindex\u001b[0m\u001b[0;34m(\u001b[0m\u001b[0;34m**\u001b[0m\u001b[0;34m{\u001b[0m\u001b[0maxis_name\u001b[0m\u001b[0;34m:\u001b[0m \u001b[0mnew_axis\u001b[0m\u001b[0;34m}\u001b[0m\u001b[0;34m)\u001b[0m\u001b[0;34m\u001b[0m\u001b[0;34m\u001b[0m\u001b[0m\n\u001b[1;32m   4187\u001b[0m \u001b[0;34m\u001b[0m\u001b[0m\n",
            "\u001b[0;32m/usr/local/lib/python3.7/dist-packages/pandas/core/indexes/base.py\u001b[0m in \u001b[0;36mdrop\u001b[0;34m(self, labels, errors)\u001b[0m\n\u001b[1;32m   6015\u001b[0m         \u001b[0;32mif\u001b[0m \u001b[0mmask\u001b[0m\u001b[0;34m.\u001b[0m\u001b[0many\u001b[0m\u001b[0;34m(\u001b[0m\u001b[0;34m)\u001b[0m\u001b[0;34m:\u001b[0m\u001b[0;34m\u001b[0m\u001b[0;34m\u001b[0m\u001b[0m\n\u001b[1;32m   6016\u001b[0m             \u001b[0;32mif\u001b[0m \u001b[0merrors\u001b[0m \u001b[0;34m!=\u001b[0m \u001b[0;34m\"ignore\"\u001b[0m\u001b[0;34m:\u001b[0m\u001b[0;34m\u001b[0m\u001b[0;34m\u001b[0m\u001b[0m\n\u001b[0;32m-> 6017\u001b[0;31m                 \u001b[0;32mraise\u001b[0m \u001b[0mKeyError\u001b[0m\u001b[0;34m(\u001b[0m\u001b[0;34mf\"{labels[mask]} not found in axis\"\u001b[0m\u001b[0;34m)\u001b[0m\u001b[0;34m\u001b[0m\u001b[0;34m\u001b[0m\u001b[0m\n\u001b[0m\u001b[1;32m   6018\u001b[0m             \u001b[0mindexer\u001b[0m \u001b[0;34m=\u001b[0m \u001b[0mindexer\u001b[0m\u001b[0;34m[\u001b[0m\u001b[0;34m~\u001b[0m\u001b[0mmask\u001b[0m\u001b[0;34m]\u001b[0m\u001b[0;34m\u001b[0m\u001b[0;34m\u001b[0m\u001b[0m\n\u001b[1;32m   6019\u001b[0m         \u001b[0;32mreturn\u001b[0m \u001b[0mself\u001b[0m\u001b[0;34m.\u001b[0m\u001b[0mdelete\u001b[0m\u001b[0;34m(\u001b[0m\u001b[0mindexer\u001b[0m\u001b[0;34m)\u001b[0m\u001b[0;34m\u001b[0m\u001b[0;34m\u001b[0m\u001b[0m\n",
            "\u001b[0;31mKeyError\u001b[0m: \"['show_id' 'type' 'date_added' 'release_year' 'rating' 'duration'] not found in axis\""
          ]
        }
      ]
    },
    {
      "cell_type": "code",
      "source": [
        "df2.info()"
      ],
      "metadata": {
        "colab": {
          "base_uri": "https://localhost:8080/"
        },
        "id": "_H4dF4YrDOGO",
        "outputId": "03ccfe7b-d946-4c66-d6d5-7d64e2aeb784"
      },
      "execution_count": 7,
      "outputs": [
        {
          "output_type": "stream",
          "name": "stdout",
          "text": [
            "<class 'pandas.core.frame.DataFrame'>\n",
            "RangeIndex: 9668 entries, 0 to 9667\n",
            "Data columns (total 6 columns):\n",
            " #   Column       Non-Null Count  Dtype \n",
            "---  ------       --------------  ----- \n",
            " 0   title        9668 non-null   object\n",
            " 1   director     7586 non-null   object\n",
            " 2   cast         8435 non-null   object\n",
            " 3   country      672 non-null    object\n",
            " 4   listed_in    9668 non-null   object\n",
            " 5   description  9668 non-null   object\n",
            "dtypes: object(6)\n",
            "memory usage: 453.3+ KB\n"
          ]
        }
      ]
    },
    {
      "cell_type": "code",
      "source": [
        "df2"
      ],
      "metadata": {
        "colab": {
          "base_uri": "https://localhost:8080/",
          "height": 641
        },
        "id": "qdYyO4lpDOI-",
        "outputId": "6519a934-abb0-4b7e-e51a-59337da01833"
      },
      "execution_count": 8,
      "outputs": [
        {
          "output_type": "execute_result",
          "data": {
            "text/plain": [
              "                        title         director  \\\n",
              "0         The Grand Seduction     Don McKellar   \n",
              "1        Take Care Good Night     Girish Joshi   \n",
              "2        Secrets of Deception      Josh Webber   \n",
              "3          Pink: Staying True   Sonia Anderson   \n",
              "4               Monster Maker     Giles Foster   \n",
              "...                       ...              ...   \n",
              "9663      Pride Of The Bowery  Joseph H. Lewis   \n",
              "9664            Planet Patrol              NaN   \n",
              "9665                  Outpost     Steve Barker   \n",
              "9666  Maradona: Blessed Dream              NaN   \n",
              "9667              Harry Brown    Daniel Barber   \n",
              "\n",
              "                                                   cast         country  \\\n",
              "0        Brendan Gleeson, Taylor Kitsch, Gordon Pinsent          Canada   \n",
              "1      Mahesh Manjrekar, Abhay Mahajan, Sachin Khedekar           India   \n",
              "2     Tom Sizemore, Lorenzo Lamas, Robert LaSardo, R...   United States   \n",
              "3     Interviews with: Pink, Adele, Beyoncé, Britney...   United States   \n",
              "4     Harry Dean Stanton, Kieran O'Brien, George Cos...  United Kingdom   \n",
              "...                                                 ...             ...   \n",
              "9663                           Leo Gorcey, Bobby Jordan             NaN   \n",
              "9664  DICK VOSBURGH, RONNIE STEVENS, LIBBY MORRIS, M...             NaN   \n",
              "9665  Ray Stevenson, Julian Wadham, Richard Brake, M...             NaN   \n",
              "9666  Esteban Recagno, Ezequiel Stremiz, Luciano Vit...             NaN   \n",
              "9667  Michael Caine, Emily Mortimer, Joseph Gilgun, ...             NaN   \n",
              "\n",
              "                    listed_in  \\\n",
              "0               Comedy, Drama   \n",
              "1        Drama, International   \n",
              "2     Action, Drama, Suspense   \n",
              "3                 Documentary   \n",
              "4              Drama, Fantasy   \n",
              "...                       ...   \n",
              "9663                   Comedy   \n",
              "9664                 TV Shows   \n",
              "9665                   Action   \n",
              "9666            Drama, Sports   \n",
              "9667  Action, Drama, Suspense   \n",
              "\n",
              "                                            description  \n",
              "0     A small fishing village must procure a local d...  \n",
              "1     A Metro Family decides to fight a Cyber Crimin...  \n",
              "2     After a man discovers his wife is cheating on ...  \n",
              "3     Pink breaks the mold once again, bringing her ...  \n",
              "4     Teenage Matt Banting wants to work with a famo...  \n",
              "...                                                 ...  \n",
              "9663  New York City street principles get an East Si...  \n",
              "9664  This is Earth, 2100AD - and these are the adve...  \n",
              "9665  In war-torn Eastern Europe, a world-weary grou...  \n",
              "9666  The series tells the story of Diego Maradona, ...  \n",
              "9667  Harry Brown, starring two-time Academy Award w...  \n",
              "\n",
              "[9668 rows x 6 columns]"
            ],
            "text/html": [
              "\n",
              "  <div id=\"df-a98ad1bf-9bb4-40ec-93f9-81168957879e\">\n",
              "    <div class=\"colab-df-container\">\n",
              "      <div>\n",
              "<style scoped>\n",
              "    .dataframe tbody tr th:only-of-type {\n",
              "        vertical-align: middle;\n",
              "    }\n",
              "\n",
              "    .dataframe tbody tr th {\n",
              "        vertical-align: top;\n",
              "    }\n",
              "\n",
              "    .dataframe thead th {\n",
              "        text-align: right;\n",
              "    }\n",
              "</style>\n",
              "<table border=\"1\" class=\"dataframe\">\n",
              "  <thead>\n",
              "    <tr style=\"text-align: right;\">\n",
              "      <th></th>\n",
              "      <th>title</th>\n",
              "      <th>director</th>\n",
              "      <th>cast</th>\n",
              "      <th>country</th>\n",
              "      <th>listed_in</th>\n",
              "      <th>description</th>\n",
              "    </tr>\n",
              "  </thead>\n",
              "  <tbody>\n",
              "    <tr>\n",
              "      <th>0</th>\n",
              "      <td>The Grand Seduction</td>\n",
              "      <td>Don McKellar</td>\n",
              "      <td>Brendan Gleeson, Taylor Kitsch, Gordon Pinsent</td>\n",
              "      <td>Canada</td>\n",
              "      <td>Comedy, Drama</td>\n",
              "      <td>A small fishing village must procure a local d...</td>\n",
              "    </tr>\n",
              "    <tr>\n",
              "      <th>1</th>\n",
              "      <td>Take Care Good Night</td>\n",
              "      <td>Girish Joshi</td>\n",
              "      <td>Mahesh Manjrekar, Abhay Mahajan, Sachin Khedekar</td>\n",
              "      <td>India</td>\n",
              "      <td>Drama, International</td>\n",
              "      <td>A Metro Family decides to fight a Cyber Crimin...</td>\n",
              "    </tr>\n",
              "    <tr>\n",
              "      <th>2</th>\n",
              "      <td>Secrets of Deception</td>\n",
              "      <td>Josh Webber</td>\n",
              "      <td>Tom Sizemore, Lorenzo Lamas, Robert LaSardo, R...</td>\n",
              "      <td>United States</td>\n",
              "      <td>Action, Drama, Suspense</td>\n",
              "      <td>After a man discovers his wife is cheating on ...</td>\n",
              "    </tr>\n",
              "    <tr>\n",
              "      <th>3</th>\n",
              "      <td>Pink: Staying True</td>\n",
              "      <td>Sonia Anderson</td>\n",
              "      <td>Interviews with: Pink, Adele, Beyoncé, Britney...</td>\n",
              "      <td>United States</td>\n",
              "      <td>Documentary</td>\n",
              "      <td>Pink breaks the mold once again, bringing her ...</td>\n",
              "    </tr>\n",
              "    <tr>\n",
              "      <th>4</th>\n",
              "      <td>Monster Maker</td>\n",
              "      <td>Giles Foster</td>\n",
              "      <td>Harry Dean Stanton, Kieran O'Brien, George Cos...</td>\n",
              "      <td>United Kingdom</td>\n",
              "      <td>Drama, Fantasy</td>\n",
              "      <td>Teenage Matt Banting wants to work with a famo...</td>\n",
              "    </tr>\n",
              "    <tr>\n",
              "      <th>...</th>\n",
              "      <td>...</td>\n",
              "      <td>...</td>\n",
              "      <td>...</td>\n",
              "      <td>...</td>\n",
              "      <td>...</td>\n",
              "      <td>...</td>\n",
              "    </tr>\n",
              "    <tr>\n",
              "      <th>9663</th>\n",
              "      <td>Pride Of The Bowery</td>\n",
              "      <td>Joseph H. Lewis</td>\n",
              "      <td>Leo Gorcey, Bobby Jordan</td>\n",
              "      <td>NaN</td>\n",
              "      <td>Comedy</td>\n",
              "      <td>New York City street principles get an East Si...</td>\n",
              "    </tr>\n",
              "    <tr>\n",
              "      <th>9664</th>\n",
              "      <td>Planet Patrol</td>\n",
              "      <td>NaN</td>\n",
              "      <td>DICK VOSBURGH, RONNIE STEVENS, LIBBY MORRIS, M...</td>\n",
              "      <td>NaN</td>\n",
              "      <td>TV Shows</td>\n",
              "      <td>This is Earth, 2100AD - and these are the adve...</td>\n",
              "    </tr>\n",
              "    <tr>\n",
              "      <th>9665</th>\n",
              "      <td>Outpost</td>\n",
              "      <td>Steve Barker</td>\n",
              "      <td>Ray Stevenson, Julian Wadham, Richard Brake, M...</td>\n",
              "      <td>NaN</td>\n",
              "      <td>Action</td>\n",
              "      <td>In war-torn Eastern Europe, a world-weary grou...</td>\n",
              "    </tr>\n",
              "    <tr>\n",
              "      <th>9666</th>\n",
              "      <td>Maradona: Blessed Dream</td>\n",
              "      <td>NaN</td>\n",
              "      <td>Esteban Recagno, Ezequiel Stremiz, Luciano Vit...</td>\n",
              "      <td>NaN</td>\n",
              "      <td>Drama, Sports</td>\n",
              "      <td>The series tells the story of Diego Maradona, ...</td>\n",
              "    </tr>\n",
              "    <tr>\n",
              "      <th>9667</th>\n",
              "      <td>Harry Brown</td>\n",
              "      <td>Daniel Barber</td>\n",
              "      <td>Michael Caine, Emily Mortimer, Joseph Gilgun, ...</td>\n",
              "      <td>NaN</td>\n",
              "      <td>Action, Drama, Suspense</td>\n",
              "      <td>Harry Brown, starring two-time Academy Award w...</td>\n",
              "    </tr>\n",
              "  </tbody>\n",
              "</table>\n",
              "<p>9668 rows × 6 columns</p>\n",
              "</div>\n",
              "      <button class=\"colab-df-convert\" onclick=\"convertToInteractive('df-a98ad1bf-9bb4-40ec-93f9-81168957879e')\"\n",
              "              title=\"Convert this dataframe to an interactive table.\"\n",
              "              style=\"display:none;\">\n",
              "        \n",
              "  <svg xmlns=\"http://www.w3.org/2000/svg\" height=\"24px\"viewBox=\"0 0 24 24\"\n",
              "       width=\"24px\">\n",
              "    <path d=\"M0 0h24v24H0V0z\" fill=\"none\"/>\n",
              "    <path d=\"M18.56 5.44l.94 2.06.94-2.06 2.06-.94-2.06-.94-.94-2.06-.94 2.06-2.06.94zm-11 1L8.5 8.5l.94-2.06 2.06-.94-2.06-.94L8.5 2.5l-.94 2.06-2.06.94zm10 10l.94 2.06.94-2.06 2.06-.94-2.06-.94-.94-2.06-.94 2.06-2.06.94z\"/><path d=\"M17.41 7.96l-1.37-1.37c-.4-.4-.92-.59-1.43-.59-.52 0-1.04.2-1.43.59L10.3 9.45l-7.72 7.72c-.78.78-.78 2.05 0 2.83L4 21.41c.39.39.9.59 1.41.59.51 0 1.02-.2 1.41-.59l7.78-7.78 2.81-2.81c.8-.78.8-2.07 0-2.86zM5.41 20L4 18.59l7.72-7.72 1.47 1.35L5.41 20z\"/>\n",
              "  </svg>\n",
              "      </button>\n",
              "      \n",
              "  <style>\n",
              "    .colab-df-container {\n",
              "      display:flex;\n",
              "      flex-wrap:wrap;\n",
              "      gap: 12px;\n",
              "    }\n",
              "\n",
              "    .colab-df-convert {\n",
              "      background-color: #E8F0FE;\n",
              "      border: none;\n",
              "      border-radius: 50%;\n",
              "      cursor: pointer;\n",
              "      display: none;\n",
              "      fill: #1967D2;\n",
              "      height: 32px;\n",
              "      padding: 0 0 0 0;\n",
              "      width: 32px;\n",
              "    }\n",
              "\n",
              "    .colab-df-convert:hover {\n",
              "      background-color: #E2EBFA;\n",
              "      box-shadow: 0px 1px 2px rgba(60, 64, 67, 0.3), 0px 1px 3px 1px rgba(60, 64, 67, 0.15);\n",
              "      fill: #174EA6;\n",
              "    }\n",
              "\n",
              "    [theme=dark] .colab-df-convert {\n",
              "      background-color: #3B4455;\n",
              "      fill: #D2E3FC;\n",
              "    }\n",
              "\n",
              "    [theme=dark] .colab-df-convert:hover {\n",
              "      background-color: #434B5C;\n",
              "      box-shadow: 0px 1px 3px 1px rgba(0, 0, 0, 0.15);\n",
              "      filter: drop-shadow(0px 1px 2px rgba(0, 0, 0, 0.3));\n",
              "      fill: #FFFFFF;\n",
              "    }\n",
              "  </style>\n",
              "\n",
              "      <script>\n",
              "        const buttonEl =\n",
              "          document.querySelector('#df-a98ad1bf-9bb4-40ec-93f9-81168957879e button.colab-df-convert');\n",
              "        buttonEl.style.display =\n",
              "          google.colab.kernel.accessAllowed ? 'block' : 'none';\n",
              "\n",
              "        async function convertToInteractive(key) {\n",
              "          const element = document.querySelector('#df-a98ad1bf-9bb4-40ec-93f9-81168957879e');\n",
              "          const dataTable =\n",
              "            await google.colab.kernel.invokeFunction('convertToInteractive',\n",
              "                                                     [key], {});\n",
              "          if (!dataTable) return;\n",
              "\n",
              "          const docLinkHtml = 'Like what you see? Visit the ' +\n",
              "            '<a target=\"_blank\" href=https://colab.research.google.com/notebooks/data_table.ipynb>data table notebook</a>'\n",
              "            + ' to learn more about interactive tables.';\n",
              "          element.innerHTML = '';\n",
              "          dataTable['output_type'] = 'display_data';\n",
              "          await google.colab.output.renderOutput(dataTable, element);\n",
              "          const docLink = document.createElement('div');\n",
              "          docLink.innerHTML = docLinkHtml;\n",
              "          element.appendChild(docLink);\n",
              "        }\n",
              "      </script>\n",
              "    </div>\n",
              "  </div>\n",
              "  "
            ]
          },
          "metadata": {},
          "execution_count": 8
        }
      ]
    },
    {
      "cell_type": "code",
      "source": [
        "df2.drop(['country'] , inplace = True , axis = 1)"
      ],
      "metadata": {
        "id": "-sZu4TxSDOL-"
      },
      "execution_count": 9,
      "outputs": []
    },
    {
      "cell_type": "code",
      "source": [
        "df2.head()"
      ],
      "metadata": {
        "colab": {
          "base_uri": "https://localhost:8080/",
          "height": 337
        },
        "id": "KdLpxbxCDOOz",
        "outputId": "65d65bbe-01f7-463a-d0fc-d925dc8ae75c"
      },
      "execution_count": 10,
      "outputs": [
        {
          "output_type": "execute_result",
          "data": {
            "text/plain": [
              "                  title        director  \\\n",
              "0   The Grand Seduction    Don McKellar   \n",
              "1  Take Care Good Night    Girish Joshi   \n",
              "2  Secrets of Deception     Josh Webber   \n",
              "3    Pink: Staying True  Sonia Anderson   \n",
              "4         Monster Maker    Giles Foster   \n",
              "\n",
              "                                                cast                listed_in  \\\n",
              "0     Brendan Gleeson, Taylor Kitsch, Gordon Pinsent            Comedy, Drama   \n",
              "1   Mahesh Manjrekar, Abhay Mahajan, Sachin Khedekar     Drama, International   \n",
              "2  Tom Sizemore, Lorenzo Lamas, Robert LaSardo, R...  Action, Drama, Suspense   \n",
              "3  Interviews with: Pink, Adele, Beyoncé, Britney...              Documentary   \n",
              "4  Harry Dean Stanton, Kieran O'Brien, George Cos...           Drama, Fantasy   \n",
              "\n",
              "                                         description  \n",
              "0  A small fishing village must procure a local d...  \n",
              "1  A Metro Family decides to fight a Cyber Crimin...  \n",
              "2  After a man discovers his wife is cheating on ...  \n",
              "3  Pink breaks the mold once again, bringing her ...  \n",
              "4  Teenage Matt Banting wants to work with a famo...  "
            ],
            "text/html": [
              "\n",
              "  <div id=\"df-a5118740-77e5-4aac-bca4-088449c408af\">\n",
              "    <div class=\"colab-df-container\">\n",
              "      <div>\n",
              "<style scoped>\n",
              "    .dataframe tbody tr th:only-of-type {\n",
              "        vertical-align: middle;\n",
              "    }\n",
              "\n",
              "    .dataframe tbody tr th {\n",
              "        vertical-align: top;\n",
              "    }\n",
              "\n",
              "    .dataframe thead th {\n",
              "        text-align: right;\n",
              "    }\n",
              "</style>\n",
              "<table border=\"1\" class=\"dataframe\">\n",
              "  <thead>\n",
              "    <tr style=\"text-align: right;\">\n",
              "      <th></th>\n",
              "      <th>title</th>\n",
              "      <th>director</th>\n",
              "      <th>cast</th>\n",
              "      <th>listed_in</th>\n",
              "      <th>description</th>\n",
              "    </tr>\n",
              "  </thead>\n",
              "  <tbody>\n",
              "    <tr>\n",
              "      <th>0</th>\n",
              "      <td>The Grand Seduction</td>\n",
              "      <td>Don McKellar</td>\n",
              "      <td>Brendan Gleeson, Taylor Kitsch, Gordon Pinsent</td>\n",
              "      <td>Comedy, Drama</td>\n",
              "      <td>A small fishing village must procure a local d...</td>\n",
              "    </tr>\n",
              "    <tr>\n",
              "      <th>1</th>\n",
              "      <td>Take Care Good Night</td>\n",
              "      <td>Girish Joshi</td>\n",
              "      <td>Mahesh Manjrekar, Abhay Mahajan, Sachin Khedekar</td>\n",
              "      <td>Drama, International</td>\n",
              "      <td>A Metro Family decides to fight a Cyber Crimin...</td>\n",
              "    </tr>\n",
              "    <tr>\n",
              "      <th>2</th>\n",
              "      <td>Secrets of Deception</td>\n",
              "      <td>Josh Webber</td>\n",
              "      <td>Tom Sizemore, Lorenzo Lamas, Robert LaSardo, R...</td>\n",
              "      <td>Action, Drama, Suspense</td>\n",
              "      <td>After a man discovers his wife is cheating on ...</td>\n",
              "    </tr>\n",
              "    <tr>\n",
              "      <th>3</th>\n",
              "      <td>Pink: Staying True</td>\n",
              "      <td>Sonia Anderson</td>\n",
              "      <td>Interviews with: Pink, Adele, Beyoncé, Britney...</td>\n",
              "      <td>Documentary</td>\n",
              "      <td>Pink breaks the mold once again, bringing her ...</td>\n",
              "    </tr>\n",
              "    <tr>\n",
              "      <th>4</th>\n",
              "      <td>Monster Maker</td>\n",
              "      <td>Giles Foster</td>\n",
              "      <td>Harry Dean Stanton, Kieran O'Brien, George Cos...</td>\n",
              "      <td>Drama, Fantasy</td>\n",
              "      <td>Teenage Matt Banting wants to work with a famo...</td>\n",
              "    </tr>\n",
              "  </tbody>\n",
              "</table>\n",
              "</div>\n",
              "      <button class=\"colab-df-convert\" onclick=\"convertToInteractive('df-a5118740-77e5-4aac-bca4-088449c408af')\"\n",
              "              title=\"Convert this dataframe to an interactive table.\"\n",
              "              style=\"display:none;\">\n",
              "        \n",
              "  <svg xmlns=\"http://www.w3.org/2000/svg\" height=\"24px\"viewBox=\"0 0 24 24\"\n",
              "       width=\"24px\">\n",
              "    <path d=\"M0 0h24v24H0V0z\" fill=\"none\"/>\n",
              "    <path d=\"M18.56 5.44l.94 2.06.94-2.06 2.06-.94-2.06-.94-.94-2.06-.94 2.06-2.06.94zm-11 1L8.5 8.5l.94-2.06 2.06-.94-2.06-.94L8.5 2.5l-.94 2.06-2.06.94zm10 10l.94 2.06.94-2.06 2.06-.94-2.06-.94-.94-2.06-.94 2.06-2.06.94z\"/><path d=\"M17.41 7.96l-1.37-1.37c-.4-.4-.92-.59-1.43-.59-.52 0-1.04.2-1.43.59L10.3 9.45l-7.72 7.72c-.78.78-.78 2.05 0 2.83L4 21.41c.39.39.9.59 1.41.59.51 0 1.02-.2 1.41-.59l7.78-7.78 2.81-2.81c.8-.78.8-2.07 0-2.86zM5.41 20L4 18.59l7.72-7.72 1.47 1.35L5.41 20z\"/>\n",
              "  </svg>\n",
              "      </button>\n",
              "      \n",
              "  <style>\n",
              "    .colab-df-container {\n",
              "      display:flex;\n",
              "      flex-wrap:wrap;\n",
              "      gap: 12px;\n",
              "    }\n",
              "\n",
              "    .colab-df-convert {\n",
              "      background-color: #E8F0FE;\n",
              "      border: none;\n",
              "      border-radius: 50%;\n",
              "      cursor: pointer;\n",
              "      display: none;\n",
              "      fill: #1967D2;\n",
              "      height: 32px;\n",
              "      padding: 0 0 0 0;\n",
              "      width: 32px;\n",
              "    }\n",
              "\n",
              "    .colab-df-convert:hover {\n",
              "      background-color: #E2EBFA;\n",
              "      box-shadow: 0px 1px 2px rgba(60, 64, 67, 0.3), 0px 1px 3px 1px rgba(60, 64, 67, 0.15);\n",
              "      fill: #174EA6;\n",
              "    }\n",
              "\n",
              "    [theme=dark] .colab-df-convert {\n",
              "      background-color: #3B4455;\n",
              "      fill: #D2E3FC;\n",
              "    }\n",
              "\n",
              "    [theme=dark] .colab-df-convert:hover {\n",
              "      background-color: #434B5C;\n",
              "      box-shadow: 0px 1px 3px 1px rgba(0, 0, 0, 0.15);\n",
              "      filter: drop-shadow(0px 1px 2px rgba(0, 0, 0, 0.3));\n",
              "      fill: #FFFFFF;\n",
              "    }\n",
              "  </style>\n",
              "\n",
              "      <script>\n",
              "        const buttonEl =\n",
              "          document.querySelector('#df-a5118740-77e5-4aac-bca4-088449c408af button.colab-df-convert');\n",
              "        buttonEl.style.display =\n",
              "          google.colab.kernel.accessAllowed ? 'block' : 'none';\n",
              "\n",
              "        async function convertToInteractive(key) {\n",
              "          const element = document.querySelector('#df-a5118740-77e5-4aac-bca4-088449c408af');\n",
              "          const dataTable =\n",
              "            await google.colab.kernel.invokeFunction('convertToInteractive',\n",
              "                                                     [key], {});\n",
              "          if (!dataTable) return;\n",
              "\n",
              "          const docLinkHtml = 'Like what you see? Visit the ' +\n",
              "            '<a target=\"_blank\" href=https://colab.research.google.com/notebooks/data_table.ipynb>data table notebook</a>'\n",
              "            + ' to learn more about interactive tables.';\n",
              "          element.innerHTML = '';\n",
              "          dataTable['output_type'] = 'display_data';\n",
              "          await google.colab.output.renderOutput(dataTable, element);\n",
              "          const docLink = document.createElement('div');\n",
              "          docLink.innerHTML = docLinkHtml;\n",
              "          element.appendChild(docLink);\n",
              "        }\n",
              "      </script>\n",
              "    </div>\n",
              "  </div>\n",
              "  "
            ]
          },
          "metadata": {},
          "execution_count": 10
        }
      ]
    },
    {
      "cell_type": "code",
      "source": [
        "df2.info()"
      ],
      "metadata": {
        "colab": {
          "base_uri": "https://localhost:8080/"
        },
        "id": "hYbqjkGuDOTW",
        "outputId": "67e73c63-42ca-468a-8605-4d1298f035fb"
      },
      "execution_count": 11,
      "outputs": [
        {
          "output_type": "stream",
          "name": "stdout",
          "text": [
            "<class 'pandas.core.frame.DataFrame'>\n",
            "RangeIndex: 9668 entries, 0 to 9667\n",
            "Data columns (total 5 columns):\n",
            " #   Column       Non-Null Count  Dtype \n",
            "---  ------       --------------  ----- \n",
            " 0   title        9668 non-null   object\n",
            " 1   director     7586 non-null   object\n",
            " 2   cast         8435 non-null   object\n",
            " 3   listed_in    9668 non-null   object\n",
            " 4   description  9668 non-null   object\n",
            "dtypes: object(5)\n",
            "memory usage: 377.8+ KB\n"
          ]
        }
      ]
    },
    {
      "cell_type": "code",
      "source": [
        "df2.fillna(value = \"is\" , inplace  = True)"
      ],
      "metadata": {
        "id": "0KbzUmEbIfAq"
      },
      "execution_count": 12,
      "outputs": []
    },
    {
      "cell_type": "code",
      "source": [
        "df2['listed_in'].iloc[2]"
      ],
      "metadata": {
        "colab": {
          "base_uri": "https://localhost:8080/",
          "height": 35
        },
        "id": "HdHJgcS0KAKc",
        "outputId": "66c3174d-96b9-4fcc-b1c0-7e0e534077cc"
      },
      "execution_count": 13,
      "outputs": [
        {
          "output_type": "execute_result",
          "data": {
            "text/plain": [
              "'Action, Drama, Suspense'"
            ],
            "application/vnd.google.colaboratory.intrinsic+json": {
              "type": "string"
            }
          },
          "metadata": {},
          "execution_count": 13
        }
      ]
    },
    {
      "cell_type": "code",
      "source": [
        ""
      ],
      "metadata": {
        "id": "ILDnonqrIfED"
      },
      "execution_count": 13,
      "outputs": []
    },
    {
      "cell_type": "code",
      "source": [
        "def convert(s):\n",
        "  s = list(s)\n",
        "  name , l , flag = \"\" , [] , 0\n",
        "  for i in s:\n",
        "    if len(l) != 3:\n",
        "      if i == \",\":\n",
        "        flag = -1\n",
        "        l.append(name)\n",
        "        name = \"\"\n",
        "      else:  \n",
        "        name += i  \n",
        "    else:\n",
        "      break\n",
        "  if flag == 0:\n",
        "    l.append(name)\n",
        "\n",
        "  return l "
      ],
      "metadata": {
        "id": "1m-Gs243IfHQ"
      },
      "execution_count": 14,
      "outputs": []
    },
    {
      "cell_type": "code",
      "source": [
        "df2['cast'] = df2['cast'].apply(convert)"
      ],
      "metadata": {
        "id": "GeePWF63MGDZ"
      },
      "execution_count": 15,
      "outputs": []
    },
    {
      "cell_type": "code",
      "source": [
        "def convert_genre(s):\n",
        "  s = list(s.split(\", \"))\n",
        "  return s"
      ],
      "metadata": {
        "id": "wRvAUdffTt8g"
      },
      "execution_count": 16,
      "outputs": []
    },
    {
      "cell_type": "code",
      "source": [
        "df2['listed_in'] = df2['listed_in'].apply(convert_genre)"
      ],
      "metadata": {
        "id": "rb-O_7KEIfKT"
      },
      "execution_count": 17,
      "outputs": []
    },
    {
      "cell_type": "code",
      "source": [
        "def convert_desc(s):\n",
        "  s = list(s.split(\" \"))\n",
        "\n",
        "  return s"
      ],
      "metadata": {
        "id": "QeGcZKhyIfMb"
      },
      "execution_count": 18,
      "outputs": []
    },
    {
      "cell_type": "code",
      "source": [
        "df2['description'] = df2['description'].apply(convert_desc)"
      ],
      "metadata": {
        "id": "vaR4Ej9GWOew"
      },
      "execution_count": 19,
      "outputs": []
    },
    {
      "cell_type": "code",
      "source": [
        "def convert_dir(s):\n",
        "  l = []\n",
        "  l.append(s)\n",
        "  return l"
      ],
      "metadata": {
        "id": "2CnJAZ9yWOiL"
      },
      "execution_count": 20,
      "outputs": []
    },
    {
      "cell_type": "code",
      "source": [
        "df2['director'] = df2['director'].apply(convert_dir)"
      ],
      "metadata": {
        "id": "3H_Th9MYXX6N"
      },
      "execution_count": 21,
      "outputs": []
    },
    {
      "cell_type": "code",
      "source": [
        "df2"
      ],
      "metadata": {
        "colab": {
          "base_uri": "https://localhost:8080/",
          "height": 641
        },
        "id": "nTKhCz2UXYFT",
        "outputId": "949431c8-ef80-45d9-93aa-741931805538"
      },
      "execution_count": 22,
      "outputs": [
        {
          "output_type": "execute_result",
          "data": {
            "text/plain": [
              "                        title           director  \\\n",
              "0         The Grand Seduction     [Don McKellar]   \n",
              "1        Take Care Good Night     [Girish Joshi]   \n",
              "2        Secrets of Deception      [Josh Webber]   \n",
              "3          Pink: Staying True   [Sonia Anderson]   \n",
              "4               Monster Maker     [Giles Foster]   \n",
              "...                       ...                ...   \n",
              "9663      Pride Of The Bowery  [Joseph H. Lewis]   \n",
              "9664            Planet Patrol               [is]   \n",
              "9665                  Outpost     [Steve Barker]   \n",
              "9666  Maradona: Blessed Dream               [is]   \n",
              "9667              Harry Brown    [Daniel Barber]   \n",
              "\n",
              "                                                   cast  \\\n",
              "0                     [Brendan Gleeson,  Taylor Kitsch]   \n",
              "1                    [Mahesh Manjrekar,  Abhay Mahajan]   \n",
              "2       [Tom Sizemore,  Lorenzo Lamas,  Robert LaSardo]   \n",
              "3             [Interviews with: Pink,  Adele,  Beyoncé]   \n",
              "4     [Harry Dean Stanton,  Kieran O'Brien,  George ...   \n",
              "...                                                 ...   \n",
              "9663                                       [Leo Gorcey]   \n",
              "9664    [DICK VOSBURGH,  RONNIE STEVENS,  LIBBY MORRIS]   \n",
              "9665    [Ray Stevenson,  Julian Wadham,  Richard Brake]   \n",
              "9666  [Esteban Recagno,  Ezequiel Stremiz,  Luciano ...   \n",
              "9667   [Michael Caine,  Emily Mortimer,  Joseph Gilgun]   \n",
              "\n",
              "                      listed_in  \\\n",
              "0               [Comedy, Drama]   \n",
              "1        [Drama, International]   \n",
              "2     [Action, Drama, Suspense]   \n",
              "3                 [Documentary]   \n",
              "4              [Drama, Fantasy]   \n",
              "...                         ...   \n",
              "9663                   [Comedy]   \n",
              "9664                 [TV Shows]   \n",
              "9665                   [Action]   \n",
              "9666            [Drama, Sports]   \n",
              "9667  [Action, Drama, Suspense]   \n",
              "\n",
              "                                            description  \n",
              "0     [A, small, fishing, village, must, procure, a,...  \n",
              "1     [A, Metro, Family, decides, to, fight, a, Cybe...  \n",
              "2     [After, a, man, discovers, his, wife, is, chea...  \n",
              "3     [Pink, breaks, the, mold, once, again,, bringi...  \n",
              "4     [Teenage, Matt, Banting, wants, to, work, with...  \n",
              "...                                                 ...  \n",
              "9663  [New, York, City, street, principles, get, an,...  \n",
              "9664  [This, is, Earth,, 2100AD, -, and, these, are,...  \n",
              "9665  [In, war-torn, Eastern, Europe,, a, world-wear...  \n",
              "9666  [The, series, tells, the, story, of, Diego, Ma...  \n",
              "9667  [Harry, Brown,, starring, two-time, Academy, A...  \n",
              "\n",
              "[9668 rows x 5 columns]"
            ],
            "text/html": [
              "\n",
              "  <div id=\"df-31952007-ee96-46c9-b2e2-588c233b351d\">\n",
              "    <div class=\"colab-df-container\">\n",
              "      <div>\n",
              "<style scoped>\n",
              "    .dataframe tbody tr th:only-of-type {\n",
              "        vertical-align: middle;\n",
              "    }\n",
              "\n",
              "    .dataframe tbody tr th {\n",
              "        vertical-align: top;\n",
              "    }\n",
              "\n",
              "    .dataframe thead th {\n",
              "        text-align: right;\n",
              "    }\n",
              "</style>\n",
              "<table border=\"1\" class=\"dataframe\">\n",
              "  <thead>\n",
              "    <tr style=\"text-align: right;\">\n",
              "      <th></th>\n",
              "      <th>title</th>\n",
              "      <th>director</th>\n",
              "      <th>cast</th>\n",
              "      <th>listed_in</th>\n",
              "      <th>description</th>\n",
              "    </tr>\n",
              "  </thead>\n",
              "  <tbody>\n",
              "    <tr>\n",
              "      <th>0</th>\n",
              "      <td>The Grand Seduction</td>\n",
              "      <td>[Don McKellar]</td>\n",
              "      <td>[Brendan Gleeson,  Taylor Kitsch]</td>\n",
              "      <td>[Comedy, Drama]</td>\n",
              "      <td>[A, small, fishing, village, must, procure, a,...</td>\n",
              "    </tr>\n",
              "    <tr>\n",
              "      <th>1</th>\n",
              "      <td>Take Care Good Night</td>\n",
              "      <td>[Girish Joshi]</td>\n",
              "      <td>[Mahesh Manjrekar,  Abhay Mahajan]</td>\n",
              "      <td>[Drama, International]</td>\n",
              "      <td>[A, Metro, Family, decides, to, fight, a, Cybe...</td>\n",
              "    </tr>\n",
              "    <tr>\n",
              "      <th>2</th>\n",
              "      <td>Secrets of Deception</td>\n",
              "      <td>[Josh Webber]</td>\n",
              "      <td>[Tom Sizemore,  Lorenzo Lamas,  Robert LaSardo]</td>\n",
              "      <td>[Action, Drama, Suspense]</td>\n",
              "      <td>[After, a, man, discovers, his, wife, is, chea...</td>\n",
              "    </tr>\n",
              "    <tr>\n",
              "      <th>3</th>\n",
              "      <td>Pink: Staying True</td>\n",
              "      <td>[Sonia Anderson]</td>\n",
              "      <td>[Interviews with: Pink,  Adele,  Beyoncé]</td>\n",
              "      <td>[Documentary]</td>\n",
              "      <td>[Pink, breaks, the, mold, once, again,, bringi...</td>\n",
              "    </tr>\n",
              "    <tr>\n",
              "      <th>4</th>\n",
              "      <td>Monster Maker</td>\n",
              "      <td>[Giles Foster]</td>\n",
              "      <td>[Harry Dean Stanton,  Kieran O'Brien,  George ...</td>\n",
              "      <td>[Drama, Fantasy]</td>\n",
              "      <td>[Teenage, Matt, Banting, wants, to, work, with...</td>\n",
              "    </tr>\n",
              "    <tr>\n",
              "      <th>...</th>\n",
              "      <td>...</td>\n",
              "      <td>...</td>\n",
              "      <td>...</td>\n",
              "      <td>...</td>\n",
              "      <td>...</td>\n",
              "    </tr>\n",
              "    <tr>\n",
              "      <th>9663</th>\n",
              "      <td>Pride Of The Bowery</td>\n",
              "      <td>[Joseph H. Lewis]</td>\n",
              "      <td>[Leo Gorcey]</td>\n",
              "      <td>[Comedy]</td>\n",
              "      <td>[New, York, City, street, principles, get, an,...</td>\n",
              "    </tr>\n",
              "    <tr>\n",
              "      <th>9664</th>\n",
              "      <td>Planet Patrol</td>\n",
              "      <td>[is]</td>\n",
              "      <td>[DICK VOSBURGH,  RONNIE STEVENS,  LIBBY MORRIS]</td>\n",
              "      <td>[TV Shows]</td>\n",
              "      <td>[This, is, Earth,, 2100AD, -, and, these, are,...</td>\n",
              "    </tr>\n",
              "    <tr>\n",
              "      <th>9665</th>\n",
              "      <td>Outpost</td>\n",
              "      <td>[Steve Barker]</td>\n",
              "      <td>[Ray Stevenson,  Julian Wadham,  Richard Brake]</td>\n",
              "      <td>[Action]</td>\n",
              "      <td>[In, war-torn, Eastern, Europe,, a, world-wear...</td>\n",
              "    </tr>\n",
              "    <tr>\n",
              "      <th>9666</th>\n",
              "      <td>Maradona: Blessed Dream</td>\n",
              "      <td>[is]</td>\n",
              "      <td>[Esteban Recagno,  Ezequiel Stremiz,  Luciano ...</td>\n",
              "      <td>[Drama, Sports]</td>\n",
              "      <td>[The, series, tells, the, story, of, Diego, Ma...</td>\n",
              "    </tr>\n",
              "    <tr>\n",
              "      <th>9667</th>\n",
              "      <td>Harry Brown</td>\n",
              "      <td>[Daniel Barber]</td>\n",
              "      <td>[Michael Caine,  Emily Mortimer,  Joseph Gilgun]</td>\n",
              "      <td>[Action, Drama, Suspense]</td>\n",
              "      <td>[Harry, Brown,, starring, two-time, Academy, A...</td>\n",
              "    </tr>\n",
              "  </tbody>\n",
              "</table>\n",
              "<p>9668 rows × 5 columns</p>\n",
              "</div>\n",
              "      <button class=\"colab-df-convert\" onclick=\"convertToInteractive('df-31952007-ee96-46c9-b2e2-588c233b351d')\"\n",
              "              title=\"Convert this dataframe to an interactive table.\"\n",
              "              style=\"display:none;\">\n",
              "        \n",
              "  <svg xmlns=\"http://www.w3.org/2000/svg\" height=\"24px\"viewBox=\"0 0 24 24\"\n",
              "       width=\"24px\">\n",
              "    <path d=\"M0 0h24v24H0V0z\" fill=\"none\"/>\n",
              "    <path d=\"M18.56 5.44l.94 2.06.94-2.06 2.06-.94-2.06-.94-.94-2.06-.94 2.06-2.06.94zm-11 1L8.5 8.5l.94-2.06 2.06-.94-2.06-.94L8.5 2.5l-.94 2.06-2.06.94zm10 10l.94 2.06.94-2.06 2.06-.94-2.06-.94-.94-2.06-.94 2.06-2.06.94z\"/><path d=\"M17.41 7.96l-1.37-1.37c-.4-.4-.92-.59-1.43-.59-.52 0-1.04.2-1.43.59L10.3 9.45l-7.72 7.72c-.78.78-.78 2.05 0 2.83L4 21.41c.39.39.9.59 1.41.59.51 0 1.02-.2 1.41-.59l7.78-7.78 2.81-2.81c.8-.78.8-2.07 0-2.86zM5.41 20L4 18.59l7.72-7.72 1.47 1.35L5.41 20z\"/>\n",
              "  </svg>\n",
              "      </button>\n",
              "      \n",
              "  <style>\n",
              "    .colab-df-container {\n",
              "      display:flex;\n",
              "      flex-wrap:wrap;\n",
              "      gap: 12px;\n",
              "    }\n",
              "\n",
              "    .colab-df-convert {\n",
              "      background-color: #E8F0FE;\n",
              "      border: none;\n",
              "      border-radius: 50%;\n",
              "      cursor: pointer;\n",
              "      display: none;\n",
              "      fill: #1967D2;\n",
              "      height: 32px;\n",
              "      padding: 0 0 0 0;\n",
              "      width: 32px;\n",
              "    }\n",
              "\n",
              "    .colab-df-convert:hover {\n",
              "      background-color: #E2EBFA;\n",
              "      box-shadow: 0px 1px 2px rgba(60, 64, 67, 0.3), 0px 1px 3px 1px rgba(60, 64, 67, 0.15);\n",
              "      fill: #174EA6;\n",
              "    }\n",
              "\n",
              "    [theme=dark] .colab-df-convert {\n",
              "      background-color: #3B4455;\n",
              "      fill: #D2E3FC;\n",
              "    }\n",
              "\n",
              "    [theme=dark] .colab-df-convert:hover {\n",
              "      background-color: #434B5C;\n",
              "      box-shadow: 0px 1px 3px 1px rgba(0, 0, 0, 0.15);\n",
              "      filter: drop-shadow(0px 1px 2px rgba(0, 0, 0, 0.3));\n",
              "      fill: #FFFFFF;\n",
              "    }\n",
              "  </style>\n",
              "\n",
              "      <script>\n",
              "        const buttonEl =\n",
              "          document.querySelector('#df-31952007-ee96-46c9-b2e2-588c233b351d button.colab-df-convert');\n",
              "        buttonEl.style.display =\n",
              "          google.colab.kernel.accessAllowed ? 'block' : 'none';\n",
              "\n",
              "        async function convertToInteractive(key) {\n",
              "          const element = document.querySelector('#df-31952007-ee96-46c9-b2e2-588c233b351d');\n",
              "          const dataTable =\n",
              "            await google.colab.kernel.invokeFunction('convertToInteractive',\n",
              "                                                     [key], {});\n",
              "          if (!dataTable) return;\n",
              "\n",
              "          const docLinkHtml = 'Like what you see? Visit the ' +\n",
              "            '<a target=\"_blank\" href=https://colab.research.google.com/notebooks/data_table.ipynb>data table notebook</a>'\n",
              "            + ' to learn more about interactive tables.';\n",
              "          element.innerHTML = '';\n",
              "          dataTable['output_type'] = 'display_data';\n",
              "          await google.colab.output.renderOutput(dataTable, element);\n",
              "          const docLink = document.createElement('div');\n",
              "          docLink.innerHTML = docLinkHtml;\n",
              "          element.appendChild(docLink);\n",
              "        }\n",
              "      </script>\n",
              "    </div>\n",
              "  </div>\n",
              "  "
            ]
          },
          "metadata": {},
          "execution_count": 22
        }
      ]
    },
    {
      "cell_type": "code",
      "source": [
        "df2['director'] = df2['director'].apply(lambda x:[i.replace(\" \",\"\") for i in x])\n",
        "df2['cast'] = df2['cast'].apply(lambda x:[i.replace(\" \",\"\") for i in x])\n",
        "df2['listed_in'] = df2['listed_in'].apply(lambda x:[i.replace(\" \",\"\") for i in x])"
      ],
      "metadata": {
        "id": "l5oF_9O4X05G"
      },
      "execution_count": 23,
      "outputs": []
    },
    {
      "cell_type": "code",
      "source": [
        "df2['tags'] = df2['director'] + df2['cast'] + df2['listed_in'] + df2['description']"
      ],
      "metadata": {
        "id": "UXHjrrKuX09C"
      },
      "execution_count": 24,
      "outputs": []
    },
    {
      "cell_type": "code",
      "source": [
        "main = df2[['title' , 'tags']]"
      ],
      "metadata": {
        "id": "gV_3BZoZX1BG"
      },
      "execution_count": 25,
      "outputs": []
    },
    {
      "cell_type": "code",
      "source": [
        "main['tags'] = main['tags'].apply(lambda x: \" \".join(x))"
      ],
      "metadata": {
        "colab": {
          "base_uri": "https://localhost:8080/"
        },
        "id": "VnBS1tpeX1D4",
        "outputId": "79b05237-dce5-41c9-ae18-015b41d9a914"
      },
      "execution_count": 26,
      "outputs": [
        {
          "output_type": "stream",
          "name": "stderr",
          "text": [
            "/usr/local/lib/python3.7/dist-packages/ipykernel_launcher.py:1: SettingWithCopyWarning: \n",
            "A value is trying to be set on a copy of a slice from a DataFrame.\n",
            "Try using .loc[row_indexer,col_indexer] = value instead\n",
            "\n",
            "See the caveats in the documentation: https://pandas.pydata.org/pandas-docs/stable/user_guide/indexing.html#returning-a-view-versus-a-copy\n",
            "  \"\"\"Entry point for launching an IPython kernel.\n"
          ]
        }
      ]
    },
    {
      "cell_type": "code",
      "source": [
        "main['tags'] = main['tags'].apply(lambda x: x.lower())"
      ],
      "metadata": {
        "colab": {
          "base_uri": "https://localhost:8080/"
        },
        "id": "om57acUMX1Ga",
        "outputId": "5cac68e9-ea49-49ac-e5fb-a60339c9b8b2"
      },
      "execution_count": 27,
      "outputs": [
        {
          "output_type": "stream",
          "name": "stderr",
          "text": [
            "/usr/local/lib/python3.7/dist-packages/ipykernel_launcher.py:1: SettingWithCopyWarning: \n",
            "A value is trying to be set on a copy of a slice from a DataFrame.\n",
            "Try using .loc[row_indexer,col_indexer] = value instead\n",
            "\n",
            "See the caveats in the documentation: https://pandas.pydata.org/pandas-docs/stable/user_guide/indexing.html#returning-a-view-versus-a-copy\n",
            "  \"\"\"Entry point for launching an IPython kernel.\n"
          ]
        }
      ]
    },
    {
      "cell_type": "code",
      "source": [
        "main"
      ],
      "metadata": {
        "colab": {
          "base_uri": "https://localhost:8080/",
          "height": 424
        },
        "id": "3Ef9JZEDX1JA",
        "outputId": "28b4fe2f-51e3-40e5-875b-9c8e121ec923"
      },
      "execution_count": 28,
      "outputs": [
        {
          "output_type": "execute_result",
          "data": {
            "text/plain": [
              "                        title  \\\n",
              "0         The Grand Seduction   \n",
              "1        Take Care Good Night   \n",
              "2        Secrets of Deception   \n",
              "3          Pink: Staying True   \n",
              "4               Monster Maker   \n",
              "...                       ...   \n",
              "9663      Pride Of The Bowery   \n",
              "9664            Planet Patrol   \n",
              "9665                  Outpost   \n",
              "9666  Maradona: Blessed Dream   \n",
              "9667              Harry Brown   \n",
              "\n",
              "                                                   tags  \n",
              "0     donmckellar brendangleeson taylorkitsch comedy...  \n",
              "1     girishjoshi maheshmanjrekar abhaymahajan drama...  \n",
              "2     joshwebber tomsizemore lorenzolamas robertlasa...  \n",
              "3     soniaanderson interviewswith:pink adele beyonc...  \n",
              "4     gilesfoster harrydeanstanton kierano'brien geo...  \n",
              "...                                                 ...  \n",
              "9663  josephh.lewis leogorcey comedy new york city s...  \n",
              "9664  is dickvosburgh ronniestevens libbymorris tvsh...  \n",
              "9665  stevebarker raystevenson julianwadham richardb...  \n",
              "9666  is estebanrecagno ezequielstremiz lucianovitto...  \n",
              "9667  danielbarber michaelcaine emilymortimer joseph...  \n",
              "\n",
              "[9668 rows x 2 columns]"
            ],
            "text/html": [
              "\n",
              "  <div id=\"df-01b0da25-5912-46ea-94c3-8843aec74bea\">\n",
              "    <div class=\"colab-df-container\">\n",
              "      <div>\n",
              "<style scoped>\n",
              "    .dataframe tbody tr th:only-of-type {\n",
              "        vertical-align: middle;\n",
              "    }\n",
              "\n",
              "    .dataframe tbody tr th {\n",
              "        vertical-align: top;\n",
              "    }\n",
              "\n",
              "    .dataframe thead th {\n",
              "        text-align: right;\n",
              "    }\n",
              "</style>\n",
              "<table border=\"1\" class=\"dataframe\">\n",
              "  <thead>\n",
              "    <tr style=\"text-align: right;\">\n",
              "      <th></th>\n",
              "      <th>title</th>\n",
              "      <th>tags</th>\n",
              "    </tr>\n",
              "  </thead>\n",
              "  <tbody>\n",
              "    <tr>\n",
              "      <th>0</th>\n",
              "      <td>The Grand Seduction</td>\n",
              "      <td>donmckellar brendangleeson taylorkitsch comedy...</td>\n",
              "    </tr>\n",
              "    <tr>\n",
              "      <th>1</th>\n",
              "      <td>Take Care Good Night</td>\n",
              "      <td>girishjoshi maheshmanjrekar abhaymahajan drama...</td>\n",
              "    </tr>\n",
              "    <tr>\n",
              "      <th>2</th>\n",
              "      <td>Secrets of Deception</td>\n",
              "      <td>joshwebber tomsizemore lorenzolamas robertlasa...</td>\n",
              "    </tr>\n",
              "    <tr>\n",
              "      <th>3</th>\n",
              "      <td>Pink: Staying True</td>\n",
              "      <td>soniaanderson interviewswith:pink adele beyonc...</td>\n",
              "    </tr>\n",
              "    <tr>\n",
              "      <th>4</th>\n",
              "      <td>Monster Maker</td>\n",
              "      <td>gilesfoster harrydeanstanton kierano'brien geo...</td>\n",
              "    </tr>\n",
              "    <tr>\n",
              "      <th>...</th>\n",
              "      <td>...</td>\n",
              "      <td>...</td>\n",
              "    </tr>\n",
              "    <tr>\n",
              "      <th>9663</th>\n",
              "      <td>Pride Of The Bowery</td>\n",
              "      <td>josephh.lewis leogorcey comedy new york city s...</td>\n",
              "    </tr>\n",
              "    <tr>\n",
              "      <th>9664</th>\n",
              "      <td>Planet Patrol</td>\n",
              "      <td>is dickvosburgh ronniestevens libbymorris tvsh...</td>\n",
              "    </tr>\n",
              "    <tr>\n",
              "      <th>9665</th>\n",
              "      <td>Outpost</td>\n",
              "      <td>stevebarker raystevenson julianwadham richardb...</td>\n",
              "    </tr>\n",
              "    <tr>\n",
              "      <th>9666</th>\n",
              "      <td>Maradona: Blessed Dream</td>\n",
              "      <td>is estebanrecagno ezequielstremiz lucianovitto...</td>\n",
              "    </tr>\n",
              "    <tr>\n",
              "      <th>9667</th>\n",
              "      <td>Harry Brown</td>\n",
              "      <td>danielbarber michaelcaine emilymortimer joseph...</td>\n",
              "    </tr>\n",
              "  </tbody>\n",
              "</table>\n",
              "<p>9668 rows × 2 columns</p>\n",
              "</div>\n",
              "      <button class=\"colab-df-convert\" onclick=\"convertToInteractive('df-01b0da25-5912-46ea-94c3-8843aec74bea')\"\n",
              "              title=\"Convert this dataframe to an interactive table.\"\n",
              "              style=\"display:none;\">\n",
              "        \n",
              "  <svg xmlns=\"http://www.w3.org/2000/svg\" height=\"24px\"viewBox=\"0 0 24 24\"\n",
              "       width=\"24px\">\n",
              "    <path d=\"M0 0h24v24H0V0z\" fill=\"none\"/>\n",
              "    <path d=\"M18.56 5.44l.94 2.06.94-2.06 2.06-.94-2.06-.94-.94-2.06-.94 2.06-2.06.94zm-11 1L8.5 8.5l.94-2.06 2.06-.94-2.06-.94L8.5 2.5l-.94 2.06-2.06.94zm10 10l.94 2.06.94-2.06 2.06-.94-2.06-.94-.94-2.06-.94 2.06-2.06.94z\"/><path d=\"M17.41 7.96l-1.37-1.37c-.4-.4-.92-.59-1.43-.59-.52 0-1.04.2-1.43.59L10.3 9.45l-7.72 7.72c-.78.78-.78 2.05 0 2.83L4 21.41c.39.39.9.59 1.41.59.51 0 1.02-.2 1.41-.59l7.78-7.78 2.81-2.81c.8-.78.8-2.07 0-2.86zM5.41 20L4 18.59l7.72-7.72 1.47 1.35L5.41 20z\"/>\n",
              "  </svg>\n",
              "      </button>\n",
              "      \n",
              "  <style>\n",
              "    .colab-df-container {\n",
              "      display:flex;\n",
              "      flex-wrap:wrap;\n",
              "      gap: 12px;\n",
              "    }\n",
              "\n",
              "    .colab-df-convert {\n",
              "      background-color: #E8F0FE;\n",
              "      border: none;\n",
              "      border-radius: 50%;\n",
              "      cursor: pointer;\n",
              "      display: none;\n",
              "      fill: #1967D2;\n",
              "      height: 32px;\n",
              "      padding: 0 0 0 0;\n",
              "      width: 32px;\n",
              "    }\n",
              "\n",
              "    .colab-df-convert:hover {\n",
              "      background-color: #E2EBFA;\n",
              "      box-shadow: 0px 1px 2px rgba(60, 64, 67, 0.3), 0px 1px 3px 1px rgba(60, 64, 67, 0.15);\n",
              "      fill: #174EA6;\n",
              "    }\n",
              "\n",
              "    [theme=dark] .colab-df-convert {\n",
              "      background-color: #3B4455;\n",
              "      fill: #D2E3FC;\n",
              "    }\n",
              "\n",
              "    [theme=dark] .colab-df-convert:hover {\n",
              "      background-color: #434B5C;\n",
              "      box-shadow: 0px 1px 3px 1px rgba(0, 0, 0, 0.15);\n",
              "      filter: drop-shadow(0px 1px 2px rgba(0, 0, 0, 0.3));\n",
              "      fill: #FFFFFF;\n",
              "    }\n",
              "  </style>\n",
              "\n",
              "      <script>\n",
              "        const buttonEl =\n",
              "          document.querySelector('#df-01b0da25-5912-46ea-94c3-8843aec74bea button.colab-df-convert');\n",
              "        buttonEl.style.display =\n",
              "          google.colab.kernel.accessAllowed ? 'block' : 'none';\n",
              "\n",
              "        async function convertToInteractive(key) {\n",
              "          const element = document.querySelector('#df-01b0da25-5912-46ea-94c3-8843aec74bea');\n",
              "          const dataTable =\n",
              "            await google.colab.kernel.invokeFunction('convertToInteractive',\n",
              "                                                     [key], {});\n",
              "          if (!dataTable) return;\n",
              "\n",
              "          const docLinkHtml = 'Like what you see? Visit the ' +\n",
              "            '<a target=\"_blank\" href=https://colab.research.google.com/notebooks/data_table.ipynb>data table notebook</a>'\n",
              "            + ' to learn more about interactive tables.';\n",
              "          element.innerHTML = '';\n",
              "          dataTable['output_type'] = 'display_data';\n",
              "          await google.colab.output.renderOutput(dataTable, element);\n",
              "          const docLink = document.createElement('div');\n",
              "          docLink.innerHTML = docLinkHtml;\n",
              "          element.appendChild(docLink);\n",
              "        }\n",
              "      </script>\n",
              "    </div>\n",
              "  </div>\n",
              "  "
            ]
          },
          "metadata": {},
          "execution_count": 28
        }
      ]
    },
    {
      "cell_type": "code",
      "source": [
        "main.sample(20)"
      ],
      "metadata": {
        "colab": {
          "base_uri": "https://localhost:8080/",
          "height": 676
        },
        "id": "pWZsSXTxg3oP",
        "outputId": "48d597b5-85b7-4fb6-835f-bbdf382f9966"
      },
      "execution_count": 29,
      "outputs": [
        {
          "output_type": "execute_result",
          "data": {
            "text/plain": [
              "                                                  title  \\\n",
              "1329             Pinkfong! Baby Shark & Christmas Songs   \n",
              "1686                        Melinda Hill: Inappropriate   \n",
              "3247                 Animal Babies: First Year on Earth   \n",
              "9490                       Nick Baker's Weird Creatures   \n",
              "5252                                Rab Ne Bana Di Jodi   \n",
              "8303                                          Kin Dread   \n",
              "7077                                     Japanese Story   \n",
              "6582                     Erica Rhodes: La Vie en Rhodes   \n",
              "6659                                              Anari   \n",
              "4445  Five Little Babies Children's Songs in Indones...   \n",
              "6235                               Give 'Em Hell Malone   \n",
              "6356                                    Her Name Was Jo   \n",
              "1352                        PEEP and the Big Wide World   \n",
              "2119                                       In My Dreams   \n",
              "1391                                         Pajanimals   \n",
              "7171         Harmony McElligott: The Struggle Continues   \n",
              "9454                                     EurOpen People   \n",
              "9267                                        A Good Year   \n",
              "2701                                         Dead Combo   \n",
              "2942                                   Bulldog Drummond   \n",
              "\n",
              "                                                   tags  \n",
              "1329  is is animation kids baby shark & christmas so...  \n",
              "1686  melindahill melindahill arts entertainment and...  \n",
              "3247  is arinaii tvshows the first year of life is t...  \n",
              "9490  is nickbaker documentary nick baker searches f...  \n",
              "5252  adityachopra shahrukhkhan anushkasharma ranimu...  \n",
              "8303  adrianleon ethansmart corinnaharneyjones patri...  \n",
              "7077  suebrooks tonicollette otarotsunashima matthew...  \n",
              "6582  brianvolk-weiss ericarhodes arts entertainment...  \n",
              "6659  k.muralimohanarao venkateshdaggubati karismaka...  \n",
              "4445  uspstudios kidstv animation kids musicvideosan...  \n",
              "6235  russellmulcahy thomasjane vingrhames elsapatak...  \n",
              "6356  joeduca marycatewilliams maryelisaduca jimcons...  \n",
              "1352  is is kids set in and around a pond, a bush, a...  \n",
              "2119  thomasbuschbeck jakegosden comedy 'in my dream...  \n",
              "1391  is victoryerrid sarahlyle michaelwinsor kids p...  \n",
              "7171  harmonymcelligott harmonymcelligott arts enter...  \n",
              "9454  albertogatto marvanza albertogatto giuseppecre...  \n",
              "9267  ridleyscott russellcrowe albertfinney marionco...  \n",
              "2701  is is musicvideosandconcerts imagine the strok...  \n",
              "2942  f.richardjones ronaldcolman claudallister dram...  "
            ],
            "text/html": [
              "\n",
              "  <div id=\"df-6febf5cc-2656-4c16-b387-84f0990ea91f\">\n",
              "    <div class=\"colab-df-container\">\n",
              "      <div>\n",
              "<style scoped>\n",
              "    .dataframe tbody tr th:only-of-type {\n",
              "        vertical-align: middle;\n",
              "    }\n",
              "\n",
              "    .dataframe tbody tr th {\n",
              "        vertical-align: top;\n",
              "    }\n",
              "\n",
              "    .dataframe thead th {\n",
              "        text-align: right;\n",
              "    }\n",
              "</style>\n",
              "<table border=\"1\" class=\"dataframe\">\n",
              "  <thead>\n",
              "    <tr style=\"text-align: right;\">\n",
              "      <th></th>\n",
              "      <th>title</th>\n",
              "      <th>tags</th>\n",
              "    </tr>\n",
              "  </thead>\n",
              "  <tbody>\n",
              "    <tr>\n",
              "      <th>1329</th>\n",
              "      <td>Pinkfong! Baby Shark &amp; Christmas Songs</td>\n",
              "      <td>is is animation kids baby shark &amp; christmas so...</td>\n",
              "    </tr>\n",
              "    <tr>\n",
              "      <th>1686</th>\n",
              "      <td>Melinda Hill: Inappropriate</td>\n",
              "      <td>melindahill melindahill arts entertainment and...</td>\n",
              "    </tr>\n",
              "    <tr>\n",
              "      <th>3247</th>\n",
              "      <td>Animal Babies: First Year on Earth</td>\n",
              "      <td>is arinaii tvshows the first year of life is t...</td>\n",
              "    </tr>\n",
              "    <tr>\n",
              "      <th>9490</th>\n",
              "      <td>Nick Baker's Weird Creatures</td>\n",
              "      <td>is nickbaker documentary nick baker searches f...</td>\n",
              "    </tr>\n",
              "    <tr>\n",
              "      <th>5252</th>\n",
              "      <td>Rab Ne Bana Di Jodi</td>\n",
              "      <td>adityachopra shahrukhkhan anushkasharma ranimu...</td>\n",
              "    </tr>\n",
              "    <tr>\n",
              "      <th>8303</th>\n",
              "      <td>Kin Dread</td>\n",
              "      <td>adrianleon ethansmart corinnaharneyjones patri...</td>\n",
              "    </tr>\n",
              "    <tr>\n",
              "      <th>7077</th>\n",
              "      <td>Japanese Story</td>\n",
              "      <td>suebrooks tonicollette otarotsunashima matthew...</td>\n",
              "    </tr>\n",
              "    <tr>\n",
              "      <th>6582</th>\n",
              "      <td>Erica Rhodes: La Vie en Rhodes</td>\n",
              "      <td>brianvolk-weiss ericarhodes arts entertainment...</td>\n",
              "    </tr>\n",
              "    <tr>\n",
              "      <th>6659</th>\n",
              "      <td>Anari</td>\n",
              "      <td>k.muralimohanarao venkateshdaggubati karismaka...</td>\n",
              "    </tr>\n",
              "    <tr>\n",
              "      <th>4445</th>\n",
              "      <td>Five Little Babies Children's Songs in Indones...</td>\n",
              "      <td>uspstudios kidstv animation kids musicvideosan...</td>\n",
              "    </tr>\n",
              "    <tr>\n",
              "      <th>6235</th>\n",
              "      <td>Give 'Em Hell Malone</td>\n",
              "      <td>russellmulcahy thomasjane vingrhames elsapatak...</td>\n",
              "    </tr>\n",
              "    <tr>\n",
              "      <th>6356</th>\n",
              "      <td>Her Name Was Jo</td>\n",
              "      <td>joeduca marycatewilliams maryelisaduca jimcons...</td>\n",
              "    </tr>\n",
              "    <tr>\n",
              "      <th>1352</th>\n",
              "      <td>PEEP and the Big Wide World</td>\n",
              "      <td>is is kids set in and around a pond, a bush, a...</td>\n",
              "    </tr>\n",
              "    <tr>\n",
              "      <th>2119</th>\n",
              "      <td>In My Dreams</td>\n",
              "      <td>thomasbuschbeck jakegosden comedy 'in my dream...</td>\n",
              "    </tr>\n",
              "    <tr>\n",
              "      <th>1391</th>\n",
              "      <td>Pajanimals</td>\n",
              "      <td>is victoryerrid sarahlyle michaelwinsor kids p...</td>\n",
              "    </tr>\n",
              "    <tr>\n",
              "      <th>7171</th>\n",
              "      <td>Harmony McElligott: The Struggle Continues</td>\n",
              "      <td>harmonymcelligott harmonymcelligott arts enter...</td>\n",
              "    </tr>\n",
              "    <tr>\n",
              "      <th>9454</th>\n",
              "      <td>EurOpen People</td>\n",
              "      <td>albertogatto marvanza albertogatto giuseppecre...</td>\n",
              "    </tr>\n",
              "    <tr>\n",
              "      <th>9267</th>\n",
              "      <td>A Good Year</td>\n",
              "      <td>ridleyscott russellcrowe albertfinney marionco...</td>\n",
              "    </tr>\n",
              "    <tr>\n",
              "      <th>2701</th>\n",
              "      <td>Dead Combo</td>\n",
              "      <td>is is musicvideosandconcerts imagine the strok...</td>\n",
              "    </tr>\n",
              "    <tr>\n",
              "      <th>2942</th>\n",
              "      <td>Bulldog Drummond</td>\n",
              "      <td>f.richardjones ronaldcolman claudallister dram...</td>\n",
              "    </tr>\n",
              "  </tbody>\n",
              "</table>\n",
              "</div>\n",
              "      <button class=\"colab-df-convert\" onclick=\"convertToInteractive('df-6febf5cc-2656-4c16-b387-84f0990ea91f')\"\n",
              "              title=\"Convert this dataframe to an interactive table.\"\n",
              "              style=\"display:none;\">\n",
              "        \n",
              "  <svg xmlns=\"http://www.w3.org/2000/svg\" height=\"24px\"viewBox=\"0 0 24 24\"\n",
              "       width=\"24px\">\n",
              "    <path d=\"M0 0h24v24H0V0z\" fill=\"none\"/>\n",
              "    <path d=\"M18.56 5.44l.94 2.06.94-2.06 2.06-.94-2.06-.94-.94-2.06-.94 2.06-2.06.94zm-11 1L8.5 8.5l.94-2.06 2.06-.94-2.06-.94L8.5 2.5l-.94 2.06-2.06.94zm10 10l.94 2.06.94-2.06 2.06-.94-2.06-.94-.94-2.06-.94 2.06-2.06.94z\"/><path d=\"M17.41 7.96l-1.37-1.37c-.4-.4-.92-.59-1.43-.59-.52 0-1.04.2-1.43.59L10.3 9.45l-7.72 7.72c-.78.78-.78 2.05 0 2.83L4 21.41c.39.39.9.59 1.41.59.51 0 1.02-.2 1.41-.59l7.78-7.78 2.81-2.81c.8-.78.8-2.07 0-2.86zM5.41 20L4 18.59l7.72-7.72 1.47 1.35L5.41 20z\"/>\n",
              "  </svg>\n",
              "      </button>\n",
              "      \n",
              "  <style>\n",
              "    .colab-df-container {\n",
              "      display:flex;\n",
              "      flex-wrap:wrap;\n",
              "      gap: 12px;\n",
              "    }\n",
              "\n",
              "    .colab-df-convert {\n",
              "      background-color: #E8F0FE;\n",
              "      border: none;\n",
              "      border-radius: 50%;\n",
              "      cursor: pointer;\n",
              "      display: none;\n",
              "      fill: #1967D2;\n",
              "      height: 32px;\n",
              "      padding: 0 0 0 0;\n",
              "      width: 32px;\n",
              "    }\n",
              "\n",
              "    .colab-df-convert:hover {\n",
              "      background-color: #E2EBFA;\n",
              "      box-shadow: 0px 1px 2px rgba(60, 64, 67, 0.3), 0px 1px 3px 1px rgba(60, 64, 67, 0.15);\n",
              "      fill: #174EA6;\n",
              "    }\n",
              "\n",
              "    [theme=dark] .colab-df-convert {\n",
              "      background-color: #3B4455;\n",
              "      fill: #D2E3FC;\n",
              "    }\n",
              "\n",
              "    [theme=dark] .colab-df-convert:hover {\n",
              "      background-color: #434B5C;\n",
              "      box-shadow: 0px 1px 3px 1px rgba(0, 0, 0, 0.15);\n",
              "      filter: drop-shadow(0px 1px 2px rgba(0, 0, 0, 0.3));\n",
              "      fill: #FFFFFF;\n",
              "    }\n",
              "  </style>\n",
              "\n",
              "      <script>\n",
              "        const buttonEl =\n",
              "          document.querySelector('#df-6febf5cc-2656-4c16-b387-84f0990ea91f button.colab-df-convert');\n",
              "        buttonEl.style.display =\n",
              "          google.colab.kernel.accessAllowed ? 'block' : 'none';\n",
              "\n",
              "        async function convertToInteractive(key) {\n",
              "          const element = document.querySelector('#df-6febf5cc-2656-4c16-b387-84f0990ea91f');\n",
              "          const dataTable =\n",
              "            await google.colab.kernel.invokeFunction('convertToInteractive',\n",
              "                                                     [key], {});\n",
              "          if (!dataTable) return;\n",
              "\n",
              "          const docLinkHtml = 'Like what you see? Visit the ' +\n",
              "            '<a target=\"_blank\" href=https://colab.research.google.com/notebooks/data_table.ipynb>data table notebook</a>'\n",
              "            + ' to learn more about interactive tables.';\n",
              "          element.innerHTML = '';\n",
              "          dataTable['output_type'] = 'display_data';\n",
              "          await google.colab.output.renderOutput(dataTable, element);\n",
              "          const docLink = document.createElement('div');\n",
              "          docLink.innerHTML = docLinkHtml;\n",
              "          element.appendChild(docLink);\n",
              "        }\n",
              "      </script>\n",
              "    </div>\n",
              "  </div>\n",
              "  "
            ]
          },
          "metadata": {},
          "execution_count": 29
        }
      ]
    },
    {
      "cell_type": "code",
      "source": [
        "main['tags']  = main['tags'].apply(lambda x:x.replace(\",\",\"\"))\n",
        "main['tags'] = main['tags'].apply(lambda x:x.replace(\".\",\"\"))\n",
        "main['tags'] = main['tags'].apply(lambda x:x.replace(\"'\",\"\"))"
      ],
      "metadata": {
        "colab": {
          "base_uri": "https://localhost:8080/"
        },
        "id": "xDN9lh2Hg3ss",
        "outputId": "0a833bd2-ab50-4d29-d25c-f6891d8ebff6"
      },
      "execution_count": 30,
      "outputs": [
        {
          "output_type": "stream",
          "name": "stderr",
          "text": [
            "/usr/local/lib/python3.7/dist-packages/ipykernel_launcher.py:1: SettingWithCopyWarning: \n",
            "A value is trying to be set on a copy of a slice from a DataFrame.\n",
            "Try using .loc[row_indexer,col_indexer] = value instead\n",
            "\n",
            "See the caveats in the documentation: https://pandas.pydata.org/pandas-docs/stable/user_guide/indexing.html#returning-a-view-versus-a-copy\n",
            "  \"\"\"Entry point for launching an IPython kernel.\n",
            "/usr/local/lib/python3.7/dist-packages/ipykernel_launcher.py:2: SettingWithCopyWarning: \n",
            "A value is trying to be set on a copy of a slice from a DataFrame.\n",
            "Try using .loc[row_indexer,col_indexer] = value instead\n",
            "\n",
            "See the caveats in the documentation: https://pandas.pydata.org/pandas-docs/stable/user_guide/indexing.html#returning-a-view-versus-a-copy\n",
            "  \n",
            "/usr/local/lib/python3.7/dist-packages/ipykernel_launcher.py:3: SettingWithCopyWarning: \n",
            "A value is trying to be set on a copy of a slice from a DataFrame.\n",
            "Try using .loc[row_indexer,col_indexer] = value instead\n",
            "\n",
            "See the caveats in the documentation: https://pandas.pydata.org/pandas-docs/stable/user_guide/indexing.html#returning-a-view-versus-a-copy\n",
            "  This is separate from the ipykernel package so we can avoid doing imports until\n"
          ]
        }
      ]
    },
    {
      "cell_type": "code",
      "source": [
        "import nltk"
      ],
      "metadata": {
        "id": "aUq49FITcWij"
      },
      "execution_count": 31,
      "outputs": []
    },
    {
      "cell_type": "code",
      "source": [
        "from nltk.stem.porter import PorterStemmer\n",
        "ps = PorterStemmer()"
      ],
      "metadata": {
        "id": "83xK3HztcWl4"
      },
      "execution_count": 32,
      "outputs": []
    },
    {
      "cell_type": "code",
      "source": [
        "def stemi(tags):\n",
        "  y = []\n",
        "\n",
        "  for i in list(tags.split(\" \")):\n",
        "    y.append(ps.stem(i))\n",
        "\n",
        "  return \" \".join(y)  "
      ],
      "metadata": {
        "id": "y1bDwvp3cmdC"
      },
      "execution_count": 33,
      "outputs": []
    },
    {
      "cell_type": "code",
      "source": [
        "main['tags'] = main['tags'].apply(stemi)"
      ],
      "metadata": {
        "colab": {
          "base_uri": "https://localhost:8080/"
        },
        "id": "Ae_nY7ErcmhV",
        "outputId": "d96e5f5d-0c9c-484a-d82e-6e4b9afcba35"
      },
      "execution_count": 34,
      "outputs": [
        {
          "output_type": "stream",
          "name": "stderr",
          "text": [
            "/usr/local/lib/python3.7/dist-packages/ipykernel_launcher.py:1: SettingWithCopyWarning: \n",
            "A value is trying to be set on a copy of a slice from a DataFrame.\n",
            "Try using .loc[row_indexer,col_indexer] = value instead\n",
            "\n",
            "See the caveats in the documentation: https://pandas.pydata.org/pandas-docs/stable/user_guide/indexing.html#returning-a-view-versus-a-copy\n",
            "  \"\"\"Entry point for launching an IPython kernel.\n"
          ]
        }
      ]
    },
    {
      "cell_type": "code",
      "source": [
        ""
      ],
      "metadata": {
        "id": "1qp7T9xScmlg"
      },
      "execution_count": 34,
      "outputs": []
    },
    {
      "cell_type": "code",
      "source": [
        "s[0]"
      ],
      "metadata": {
        "colab": {
          "base_uri": "https://localhost:8080/",
          "height": 165
        },
        "id": "UdCO_3tncmpw",
        "outputId": "92c02a42-506b-4207-87f7-8d76aa4d1b29"
      },
      "execution_count": 35,
      "outputs": [
        {
          "output_type": "error",
          "ename": "NameError",
          "evalue": "ignored",
          "traceback": [
            "\u001b[0;31m---------------------------------------------------------------------------\u001b[0m",
            "\u001b[0;31mNameError\u001b[0m                                 Traceback (most recent call last)",
            "\u001b[0;32m<ipython-input-35-c9c96910e542>\u001b[0m in \u001b[0;36m<module>\u001b[0;34m()\u001b[0m\n\u001b[0;32m----> 1\u001b[0;31m \u001b[0ms\u001b[0m\u001b[0;34m[\u001b[0m\u001b[0;36m0\u001b[0m\u001b[0;34m]\u001b[0m\u001b[0;34m\u001b[0m\u001b[0;34m\u001b[0m\u001b[0m\n\u001b[0m",
            "\u001b[0;31mNameError\u001b[0m: name 's' is not defined"
          ]
        }
      ]
    },
    {
      "cell_type": "code",
      "source": [
        "## text vectorization"
      ],
      "metadata": {
        "id": "Yv1KFDUoX1MG"
      },
      "execution_count": 36,
      "outputs": []
    },
    {
      "cell_type": "code",
      "source": [
        "from sklearn.feature_extraction.text import CountVectorizer"
      ],
      "metadata": {
        "id": "RRDD9yp5X1TI"
      },
      "execution_count": 37,
      "outputs": []
    },
    {
      "cell_type": "code",
      "source": [
        "mk = CountVectorizer(max_features=10000,stop_words='english')"
      ],
      "metadata": {
        "id": "agJjCkbSbNKd"
      },
      "execution_count": 38,
      "outputs": []
    },
    {
      "cell_type": "code",
      "source": [
        "vector = mk.fit_transform(main['tags']).toarray()"
      ],
      "metadata": {
        "id": "aRRfzjoMbNNT"
      },
      "execution_count": 39,
      "outputs": []
    },
    {
      "cell_type": "code",
      "source": [
        "stemi('billi')"
      ],
      "metadata": {
        "colab": {
          "base_uri": "https://localhost:8080/",
          "height": 35
        },
        "id": "llIQ7gocbNQj",
        "outputId": "362dad61-9088-40ca-9955-42338a1a17e8"
      },
      "execution_count": 40,
      "outputs": [
        {
          "output_type": "execute_result",
          "data": {
            "text/plain": [
              "'billi'"
            ],
            "application/vnd.google.colaboratory.intrinsic+json": {
              "type": "string"
            }
          },
          "metadata": {},
          "execution_count": 40
        }
      ]
    },
    {
      "cell_type": "code",
      "source": [
        ""
      ],
      "metadata": {
        "id": "rXndbTVjbNUh"
      },
      "execution_count": 45,
      "outputs": []
    },
    {
      "cell_type": "code",
      "source": [
        "## cosine similarity"
      ],
      "metadata": {
        "id": "hrs3TVGhbNXP"
      },
      "execution_count": 41,
      "outputs": []
    },
    {
      "cell_type": "code",
      "source": [
        "from sklearn.metrics.pairwise import cosine_similarity"
      ],
      "metadata": {
        "id": "lq-OXWJzbNbz"
      },
      "execution_count": 42,
      "outputs": []
    },
    {
      "cell_type": "code",
      "source": [
        "simi = cosine_similarity(vector)"
      ],
      "metadata": {
        "id": "rFH9fIu5bNed"
      },
      "execution_count": 43,
      "outputs": []
    },
    {
      "cell_type": "code",
      "source": [
        "def recommend(movie):\n",
        "\n",
        "  index = main[main['title'] == movie].index[0]\n",
        "  similarity_vec = simi[index]\n",
        "  m = sorted(list(enumerate(similarity_vec)) , reverse = True , key = lambda x:x[1])[1 : 6]\n",
        "  for i in m:\n",
        "    print(main['title'].iloc[i[0]])\n",
        "  "
      ],
      "metadata": {
        "id": "LGmPwKM8bNiK"
      },
      "execution_count": 45,
      "outputs": []
    },
    {
      "cell_type": "code",
      "source": [
        "recommend('Nene Raju Nene Mantri')"
      ],
      "metadata": {
        "colab": {
          "base_uri": "https://localhost:8080/"
        },
        "id": "sS1WyWpCbNk4",
        "outputId": "2f41c2cb-b3fc-482a-df7b-ada172779922"
      },
      "execution_count": 46,
      "outputs": [
        {
          "output_type": "stream",
          "name": "stdout",
          "text": [
            "Little Kingdom\n",
            "Devarakondalo Vijay Prema Katha\n",
            "Majili\n",
            "Worth\n",
            "As Long as We Both Shall Live\n"
          ]
        }
      ]
    },
    {
      "cell_type": "code",
      "source": [
        "import pickle"
      ],
      "metadata": {
        "id": "UPd-RrjVbNn9"
      },
      "execution_count": 44,
      "outputs": []
    },
    {
      "cell_type": "code",
      "source": [
        "ds = main.to_dict()"
      ],
      "metadata": {
        "id": "_nQZYgAzOLXt"
      },
      "execution_count": 49,
      "outputs": []
    },
    {
      "cell_type": "code",
      "source": [
        "pickle.dump(ds,open('movieslist.pkl' , 'wb'))"
      ],
      "metadata": {
        "id": "vpkp3hAKbNqw"
      },
      "execution_count": 50,
      "outputs": []
    },
    {
      "cell_type": "code",
      "source": [
        "pickle.dump(simi,open('similarity_vector.pkl' , 'wb'))"
      ],
      "metadata": {
        "id": "yLoy2VrgbNwC"
      },
      "execution_count": 52,
      "outputs": []
    },
    {
      "cell_type": "code",
      "source": [
        ""
      ],
      "metadata": {
        "id": "CsGkaheyOCOp"
      },
      "execution_count": null,
      "outputs": []
    },
    {
      "cell_type": "code",
      "source": [
        ""
      ],
      "metadata": {
        "id": "MHF3j9FUOCc8"
      },
      "execution_count": null,
      "outputs": []
    },
    {
      "cell_type": "code",
      "source": [
        ""
      ],
      "metadata": {
        "id": "P-W8VaBabNzC"
      },
      "execution_count": null,
      "outputs": []
    }
  ]
}